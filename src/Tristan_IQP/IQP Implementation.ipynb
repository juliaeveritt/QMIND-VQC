{
 "cells": [
  {
   "cell_type": "code",
   "execution_count": 1,
   "id": "37cd44dd",
   "metadata": {},
   "outputs": [],
   "source": [
    "from qiskit.circuit import QuantumCircuit\n",
    "#from qiskit.circuit.library import IQP\n",
    "from matplotlib import pyplot as plt\n",
    "from qiskit import QuantumCircuit, Aer\n",
    "from qiskit.quantum_info import Statevector\n",
    "from qiskit.visualization import plot_bloch_multivector\n",
    "import numpy as np\n",
    "from qiskit.circuit import Parameter, ParameterVector"
   ]
  },
  {
   "cell_type": "code",
   "execution_count": 2,
   "id": "4bd644b2",
   "metadata": {},
   "outputs": [
    {
     "ename": "NameError",
     "evalue": "name 'IQP' is not defined",
     "output_type": "error",
     "traceback": [
      "\u001b[1;31m---------------------------------------------------------------------------\u001b[0m",
      "\u001b[1;31mNameError\u001b[0m                                 Traceback (most recent call last)",
      "\u001b[1;32m~\\AppData\\Local\\Temp/ipykernel_13720/3580003770.py\u001b[0m in \u001b[0;36m<module>\u001b[1;34m\u001b[0m\n\u001b[0;32m      1\u001b[0m \u001b[0mm\u001b[0m \u001b[1;33m=\u001b[0m \u001b[1;34m'mpl'\u001b[0m\u001b[1;33m\u001b[0m\u001b[1;33m\u001b[0m\u001b[0m\n\u001b[1;32m----> 2\u001b[1;33m qc = IQP([[1,2,3],\n\u001b[0m\u001b[0;32m      3\u001b[0m           \u001b[1;33m[\u001b[0m\u001b[1;36m2\u001b[0m\u001b[1;33m,\u001b[0m\u001b[1;36m1\u001b[0m\u001b[1;33m,\u001b[0m\u001b[1;36m2\u001b[0m\u001b[1;33m]\u001b[0m\u001b[1;33m,\u001b[0m\u001b[1;33m\u001b[0m\u001b[1;33m\u001b[0m\u001b[0m\n\u001b[0;32m      4\u001b[0m           [3,2,1]])\n\u001b[0;32m      5\u001b[0m \u001b[0mqc\u001b[0m\u001b[1;33m.\u001b[0m\u001b[0mdecompose\u001b[0m\u001b[1;33m(\u001b[0m\u001b[1;33m)\u001b[0m\u001b[1;33m.\u001b[0m\u001b[0mdraw\u001b[0m\u001b[1;33m(\u001b[0m\u001b[0mm\u001b[0m\u001b[1;33m)\u001b[0m\u001b[1;33m\u001b[0m\u001b[1;33m\u001b[0m\u001b[0m\n",
      "\u001b[1;31mNameError\u001b[0m: name 'IQP' is not defined"
     ]
    }
   ],
   "source": [
    "m = 'mpl'\n",
    "qc = IQP([[1,2,3],\n",
    "          [2,1,2],\n",
    "          [3,2,1]])\n",
    "qc.decompose().draw(m)"
   ]
  },
  {
   "cell_type": "code",
   "execution_count": 15,
   "id": "1ab4615f",
   "metadata": {},
   "outputs": [
    {
     "data": {
      "image/png": "[encoded data removed]",
      "text/plain": [
       "<Figure size 447.797x204.68 with 1 Axes>"
      ]
     },
     "metadata": {},
     "output_type": "display_data"
    },
    {
     "name": "stdout",
     "output_type": "stream",
     "text": [
      "[[ParameterVectorElement(θ[0]) ParameterVectorElement(θ[4])\n",
      "  ParameterVectorElement(θ[5]) ParameterVectorElement(θ[6])]\n",
      " [ParameterVectorElement(θ[4]) ParameterVectorElement(θ[1])\n",
      "  ParameterVectorElement(θ[6]) ParameterVectorElement(θ[7])]\n",
      " [ParameterVectorElement(θ[5]) ParameterVectorElement(θ[6])\n",
      "  ParameterVectorElement(θ[2]) ParameterVectorElement(θ[8])]\n",
      " [ParameterVectorElement(θ[6]) ParameterVectorElement(θ[7])\n",
      "  ParameterVectorElement(θ[8]) ParameterVectorElement(θ[3])]]\n",
      "θ, ['θ[0]', 'θ[1]', 'θ[2]', 'θ[3]', 'θ[4]', 'θ[5]', 'θ[6]', 'θ[7]', 'θ[8]', 'θ[9]']\n"
     ]
    },
    {
     "data": {
      "image/png": "[encoded data removed]",
      "text/plain": [
       "<Figure size 1110x264.88 with 1 Axes>"
      ]
     },
     "execution_count": 15,
     "metadata": {},
     "output_type": "execute_result"
    }
   ],
   "source": [
    "def IQP_Mat(int_mat, insert_barrier=False):\n",
    "    n = len(int_mat[0][:])\n",
    "    \n",
    "    for i in range(n):\n",
    "        for j in range(n-1, i, -1):\n",
    "            if(int_mat[i][j] != int_mat[j][i]):\n",
    "                print(\"Not a symmetrical interaction matrix!\")\n",
    "                return\n",
    "    \n",
    "    qc = QuantumCircuit(n)\n",
    "    qc.h(range(n))\n",
    "    \n",
    "    if(insert_barrier):\n",
    "        qc.barrier()\n",
    "    \n",
    "    for i in range(n):\n",
    "        for j in range(n-1, i, -1):\n",
    "            x = int_mat[i][j]\n",
    "            qc.cp(x, i, j)\n",
    "    if(insert_barrier):\n",
    "        qc.barrier()\n",
    "    \n",
    "    for i in range(n):\n",
    "        qc.p(int_mat[i][i], i)\n",
    "        \n",
    "    qc.h(range(n))\n",
    " \n",
    "    return qc\n",
    "qc = IQP_Mat([[1,2,3],\n",
    "              [2,1,4],\n",
    "              [3,4,1]])\n",
    "display(qc.draw(m))\n",
    "\n",
    "def IQP(n, insert_barrier=False):\n",
    "    num_params = np.sum([i for i in range(n+1)])\n",
    "    params = ParameterVector('θ', num_params)\n",
    "    paramMat = np.empty([n,n], dtype=Parameter)\n",
    "    for i in range(n):\n",
    "        paramMat[i][i] = params[i]\n",
    "        for j in range(n):\n",
    "            if(i != j):\n",
    "                paramMat[i][j] = params[n-1+i+j]\n",
    "                paramMat[j][i] = paramMat[i][j]\n",
    "    print(paramMat)\n",
    "    \n",
    "    return IQP_Mat(paramMat, insert_barrier=insert_barrier), params\n",
    "\n",
    "qc, params = IQP(4, True)\n",
    "print(params)\n",
    "qc.draw(m)"
   ]
  },
  {
   "cell_type": "code",
   "execution_count": null,
   "id": "c69cccbe",
   "metadata": {},
   "outputs": [],
   "source": []
  }
 ],
 "metadata": {
  "kernelspec": {
   "display_name": "base",
   "language": "python",
   "name": "base"
  },
  "language_info": {
   "codemirror_mode": {
    "name": "ipython",
    "version": 3
   },
   "file_extension": ".py",
   "mimetype": "text/x-python",
   "name": "python",
   "nbconvert_exporter": "python",
   "pygments_lexer": "ipython3",
   "version": "3.8.12"
  }
 },
 "nbformat": 4,
 "nbformat_minor": 5
}
