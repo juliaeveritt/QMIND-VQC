{
 "cells": [
  {
   "cell_type": "code",
   "execution_count": 84,
   "id": "37cd44dd",
   "metadata": {},
   "outputs": [],
   "source": [
    "from qiskit.circuit import QuantumCircuit\n",
    "from qiskit.circuit.library import IQP\n",
    "from matplotlib import pyplot as plt\n",
    "from qiskit import QuantumCircuit, Aer\n",
    "from qiskit.quantum_info import Statevector\n",
    "from qiskit.visualization import plot_bloch_multivector\n",
    "import numpy as np"
   ]
  },
  {
   "cell_type": "code",
   "execution_count": 85,
   "id": "4bd644b2",
   "metadata": {},
   "outputs": [
    {
     "data": {
      "image/png": "[encoded data removed]",
      "text/plain": [
       "<Figure size 507.997x204.68 with 1 Axes>"
      ]
     },
     "execution_count": 85,
     "metadata": {},
     "output_type": "execute_result"
    }
   ],
   "source": [
    "m = 'mpl'\n",
    "qc = IQP([[1,2,3],\n",
    "          [2,1,2],\n",
    "          [3,2,1]])\n",
    "qc.decompose().draw(m)"
   ]
  },
  {
   "cell_type": "code",
   "execution_count": 88,
   "id": "1ab4615f",
   "metadata": {},
   "outputs": [
    {
     "data": {
      "image/png": "[encoded data removed]",
      "text/plain": [
       "<Figure size 507.997x204.68 with 1 Axes>"
      ]
     },
     "execution_count": 88,
     "metadata": {},
     "output_type": "execute_result"
    }
   ],
   "source": [
    "def IQP(int_mat):\n",
    "    n = len(int_mat[0][:])\n",
    "    \n",
    "    for i in range(n):\n",
    "        for j in range(n-1, i, -1):\n",
    "            if(int_mat[i][j] != int_mat[j][i]):\n",
    "                print(\"Not a symmetrical interaction matrix!\")\n",
    "                return\n",
    "    \n",
    "    qc = QuantumCircuit(n)\n",
    "    qc.h(range(n))\n",
    "    \n",
    "    for i in range(n):\n",
    "        for j in range(n-1, i, -1):\n",
    "            x = int_mat[i][j]\n",
    "            qc.cp(np.pi/2*x, i, j)\n",
    "    \n",
    "    for i in range(n):\n",
    "        qc.p(np.pi/8*int_mat[i][i], i)\n",
    "        \n",
    "    qc.h(range(n))\n",
    " \n",
    "    return qc\n",
    "\n",
    "qc = IQP([[1,2,3],\n",
    "          [2,1,2],\n",
    "          [3,2,1]])\n",
    "\n",
    "qc.draw(m)"
   ]
  },
  {
   "cell_type": "code",
   "execution_count": null,
   "id": "c69cccbe",
   "metadata": {},
   "outputs": [],
   "source": []
  }
 ],
 "metadata": {
  "kernelspec": {
   "display_name": "Python (qiskitEnv)",
   "language": "python",
   "name": "qiskitenv"
  },
  "language_info": {
   "codemirror_mode": {
    "name": "ipython",
    "version": 3
   },
   "file_extension": ".py",
   "mimetype": "text/x-python",
   "name": "python",
   "nbconvert_exporter": "python",
   "pygments_lexer": "ipython3",
   "version": "3.9.6"
  }
 },
 "nbformat": 4,
 "nbformat_minor": 5
}
