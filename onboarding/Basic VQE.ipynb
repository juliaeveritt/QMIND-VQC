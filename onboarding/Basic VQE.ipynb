{
 "cells": [
  {
   "cell_type": "code",
   "execution_count": 89,
   "metadata": {},
   "outputs": [],
   "source": [
    "from qiskit import *\n",
    "from qiskit.aqua.operators import WeightedPauliOperator\n",
    "from qiskit.aqua.algorithms import NumPyEigensolver\n",
    "from scipy.optimize import minimize\n",
    "from qiskit.providers.aer import StatevectorSimulator\n",
    "\n",
    "import numpy as np\n",
    "\n",
    "import matplotlib.pyplot as plt\n",
    "\n",
    "from numpy.random import random"
   ]
  },
  {
   "cell_type": "code",
   "execution_count": 90,
   "metadata": {},
   "outputs": [],
   "source": [
    "import warnings\n",
    "warnings.filterwarnings('ignore')"
   ]
  },
  {
   "cell_type": "code",
   "execution_count": 91,
   "metadata": {},
   "outputs": [],
   "source": [
    "def create_hamiltonian(i,x,y,z):\n",
    "    pauli_dict = {\n",
    "        'paulis': [{\"coeff\": {\"imag\": 0.0, \"real\": i}, \"label\": \"I\"},\n",
    "                   {\"coeff\": {\"imag\": 0.0, \"real\": z}, \"label\": \"Z\"},\n",
    "                   {\"coeff\": {\"imag\": 0.0, \"real\": x}, \"label\": \"X\"},\n",
    "                   {\"coeff\": {\"imag\": 0.0, \"real\": y}, \"label\": \"Y\"}\n",
    "                  ]\n",
    "    }\n",
    "    return WeightedPauliOperator.from_dict(pauli_dict)"
   ]
  },
  {
   "cell_type": "code",
   "execution_count": 92,
   "metadata": {},
   "outputs": [],
   "source": [
    "def create_pauli_operators(i,x,y,z):\n",
    "    pauli_dict = { \"X\" : x,\n",
    "                  \"Y\" : y,\n",
    "                  \"Z\" : z,\n",
    "                  \"I\" : i     \n",
    "    }\n",
    "    return pauli_dict"
   ]
  },
  {
   "cell_type": "code",
   "execution_count": 93,
   "metadata": {},
   "outputs": [],
   "source": [
    "def create_ansatz(parameters):\n",
    "    assert len(parameters) == 2\n",
    "    circuit = QuantumCircuit(1,1)\n",
    "    circuit.ry(parameters[0], 0)\n",
    "    circuit.rx(parameters[1], 0)\n",
    "    return circuit"
   ]
  },
  {
   "cell_type": "code",
   "execution_count": 94,
   "metadata": {},
   "outputs": [],
   "source": [
    "def measure_operators(parameters, operator):\n",
    "    circuit = create_ansatz(parameters)\n",
    "    if operator == \"I\":\n",
    "        return 1\n",
    "    elif operator == \"Z\":\n",
    "        circuit.measure(0, 0)\n",
    "    elif operator == \"Y\":\n",
    "        circuit.rx(np.pi / 2, 0)\n",
    "        circuit.measure(0, 0)\n",
    "    elif operator == \"X\":\n",
    "        circuit.ry(np.pi / 2, 0)\n",
    "        circuit.measure(0, 0)\n",
    "    else:\n",
    "        raise ValueError(\"Operator must be a valid Pauli operator\")\n",
    "    \n",
    "#     display(circuit.draw(output='mpl'))\n",
    "        \n",
    "    # Measure value of cicuit\n",
    "    num_shots = 10000\n",
    "    qasm_sim = Aer.get_backend('qasm_simulator')\n",
    "#     qasm_sim = StatevectorSimulator()\n",
    "#     qobj = assemble(circuit, shots=num_shots, memory=True)\n",
    "#     result = qasm_sim.run(qobj).result()\n",
    "    job = execute(circuit, qasm_sim, shots=num_shots)\n",
    "    result = job.result()\n",
    "    counts = result.get_counts()\n",
    "    total = 0\n",
    "    for measurement in counts:\n",
    "        sign = 1\n",
    "        if measurement == '1':\n",
    "            sign = -1\n",
    "        total += sign * counts[measurement] / num_shots\n",
    "    return total\n",
    "        "
   ]
  },
  {
   "cell_type": "code",
   "execution_count": 95,
   "metadata": {},
   "outputs": [],
   "source": [
    "def vqe(parameters):\n",
    "    i_pauli = measure_operators(parameters, \"I\")\n",
    "    z_pauli = measure_operators(parameters, \"Z\")\n",
    "    y_pauli = measure_operators(parameters, \"Y\")\n",
    "    x_pauli = measure_operators(parameters, \"X\")\n",
    "    expectation_value = pauli_dict[\"I\"] * i_pauli + pauli_dict[\"Z\"] * z_pauli + pauli_dict[\"Y\"] \\\n",
    "                        * y_pauli + pauli_dict[\"X\"] * x_pauli\n",
    "    return expectation_value"
   ]
  },
  {
   "cell_type": "code",
   "execution_count": 96,
   "metadata": {},
   "outputs": [],
   "source": [
    "factor = 5\n",
    "i,x,y,z = factor * random(), factor * random(), factor * random(), factor * random()"
   ]
  },
  {
   "cell_type": "code",
   "execution_count": 97,
   "metadata": {},
   "outputs": [
    {
     "name": "stdout",
     "output_type": "stream",
     "text": [
      "Estimated minimum eigenvalue:  -4.87454954604606\n"
     ]
    }
   ],
   "source": [
    "pauli_dict = create_pauli_operators(i, x, y, z)\n",
    "array = [np.pi, np.pi]\n",
    "minimum = minimize(vqe, array, method=\"Powell\", tol=1e-3)\n",
    "print(\"Estimated minimum eigenvalue: \", minimum.fun)"
   ]
  },
  {
   "cell_type": "code",
   "execution_count": 98,
   "metadata": {},
   "outputs": [
    {
     "name": "stdout",
     "output_type": "stream",
     "text": [
      "Exact ground state energy:  -4.841413018578932\n"
     ]
    }
   ],
   "source": [
    "hamiltonian = create_hamiltonian(i, x, y, z)\n",
    "exact_result = NumPyEigensolver(hamiltonian).run()\n",
    "reference_energy = min(np.real(exact_result.eigenvalues))\n",
    "print(\"Exact ground state energy: \", reference_energy)"
   ]
  }
 ],
 "metadata": {
  "kernelspec": {
   "display_name": "Python 3",
   "language": "python",
   "name": "python3"
  },
  "language_info": {
   "codemirror_mode": {
    "name": "ipython",
    "version": 3
   },
   "file_extension": ".py",
   "mimetype": "text/x-python",
   "name": "python",
   "nbconvert_exporter": "python",
   "pygments_lexer": "ipython3",
   "version": "3.8.5"
  }
 },
 "nbformat": 4,
 "nbformat_minor": 4
}
