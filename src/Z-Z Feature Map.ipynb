{
 "cells": [
  {
   "cell_type": "code",
   "execution_count": 1,
   "id": "d957f638",
   "metadata": {},
   "outputs": [],
   "source": [
    "# imports\n",
    "import matplotlib.pyplot as plt\n",
    "import numpy as np\n",
    "\n",
    "from qiskit import IBMQ, Aer\n",
    "from qiskit.providers.ibmq import least_busy\n",
    "from qiskit import QuantumCircuit, ClassicalRegister, QuantumRegister, transpile, assemble\n",
    "from qiskit.visualization import plot_histogram\n",
    "from qiskit.circuit.library.data_preparation.pauli_feature_map import PauliFeatureMap\n",
    "from qiskit.circuit import Parameter, ParameterVector"
   ]
  },
  {
   "cell_type": "markdown",
   "id": "dc895526",
   "metadata": {},
   "source": [
    "# Qiskit Implementation"
   ]
  },
  {
   "cell_type": "code",
   "execution_count": 2,
   "id": "dda83afa",
   "metadata": {},
   "outputs": [],
   "source": [
    "# Qiskit Z-Z Feature Map\n",
    "\n",
    "from typing import Callable, List, Union, Optional\n",
    "\n",
    "class ZZFeatureMap(PauliFeatureMap):\n",
    "    \"\"\"Second-order Pauli-Z evolution circuit.\n",
    "\n",
    "    For 3 qubits and 1 repetition and linear entanglement the circuit is represented by:\n",
    "\n",
    "    .. parsed-literal::\n",
    "\n",
    "        ┌───┐┌─────────────────┐\n",
    "        ┤ H ├┤ U1(2.0*φ(x[0])) ├──■────────────────────────────■────────────────────────────────────\n",
    "        ├───┤├─────────────────┤┌─┴─┐┌──────────────────────┐┌─┴─┐\n",
    "        ┤ H ├┤ U1(2.0*φ(x[1])) ├┤ X ├┤ U1(2.0*φ(x[0],x[1])) ├┤ X ├──■────────────────────────────■──\n",
    "        ├───┤├─────────────────┤└───┘└──────────────────────┘└───┘┌─┴─┐┌──────────────────────┐┌─┴─┐\n",
    "        ┤ H ├┤ U1(2.0*φ(x[2])) ├──────────────────────────────────┤ X ├┤ U1(2.0*φ(x[1],x[2])) ├┤ X ├\n",
    "        └───┘└─────────────────┘                                  └───┘└──────────────────────┘└───┘\n",
    "\n",
    "    where ``φ`` is a classical non-linear function, which defaults to ``φ(x) = x`` if and\n",
    "    ``φ(x,y) = (pi - x)(pi - y)``.\n",
    "\n",
    "    Examples:\n",
    "\n",
    "        >>> prep = ZZFeatureMap(2, reps=2)\n",
    "        >>> print(prep)\n",
    "             ┌───┐┌──────────────┐\n",
    "        q_0: ┤ H ├┤ U1(2.0*x[0]) ├──■───────────────────────────────────────■──\n",
    "             ├───┤├──────────────┤┌─┴─┐┌─────────────────────────────────┐┌─┴─┐\n",
    "        q_1: ┤ H ├┤ U1(2.0*x[1]) ├┤ X ├┤ U1(2.0*(pi - x[0])*(pi - x[1])) ├┤ X ├\n",
    "             └───┘└──────────────┘└───┘└─────────────────────────────────┘└───┘\n",
    "\n",
    "        >>> from qiskit.circuit.library import EfficientSU2\n",
    "        >>> classifier = ZZFeatureMap(3) + EfficientSU2(3)\n",
    "        >>> classifier.num_parameters\n",
    "        15\n",
    "        >>> classifier.parameters  # 'x' for the data preparation, 'θ' for the SU2 parameters\n",
    "        {Parameter(θ[9]), Parameter(θ[4]), Parameter(θ[6]), Parameter(θ[1]), Parameter(x[2]),\n",
    "        Parameter(θ[7]), Parameter(x[1]), Parameter(θ[8]), Parameter(θ[2]), Parameter(θ[10]),\n",
    "        Parameter(θ[5]), Parameter(θ[0]), Parameter(θ[3]), Parameter(x[0]), Parameter(θ[11])}\n",
    "        >>> classifier.count_ops()\n",
    "        OrderedDict([('u1', 12), ('cx', 12), ('ry', 12), ('cz', 9), ('h', 6)])\n",
    "    \"\"\"\n",
    "\n",
    "    def __init__(\n",
    "        self,\n",
    "        feature_dimension: int,\n",
    "        reps: int = 2,\n",
    "        entanglement: Union[str, List[List[int]], Callable[[int], List[int]]] = \"full\",\n",
    "        data_map_func: Optional[Callable[[np.ndarray], float]] = None,\n",
    "        insert_barriers: bool = False,\n",
    "        name: str = \"ZZFeatureMap\",\n",
    "    ) -> None:\n",
    "        \"\"\"Create a new second-order Pauli-Z expansion.\n",
    "\n",
    "        Args:\n",
    "            feature_dimension: Number of features.\n",
    "            reps: The number of repeated circuits, has a min. value of 1.\n",
    "            entanglement: Specifies the entanglement structure. Refer to\n",
    "                :class:`~qiskit.circuit.library.NLocal` for detail.\n",
    "            data_map_func: A mapping function for data x.\n",
    "            insert_barriers: If True, barriers are inserted in between the evolution instructions\n",
    "                and hadamard layers.\n",
    "\n",
    "        Raises:\n",
    "            ValueError: If the feature dimension is smaller than 2.\n",
    "        \"\"\"\n",
    "        if feature_dimension < 2:\n",
    "            raise ValueError(\n",
    "                \"The ZZFeatureMap contains 2-local interactions and cannot be \"\n",
    "                f\"defined for less than 2 qubits. You provided {feature_dimension}.\"\n",
    "            )\n",
    "\n",
    "        super().__init__(\n",
    "            feature_dimension=feature_dimension,\n",
    "            reps=reps,\n",
    "            entanglement=entanglement,\n",
    "            paulis=[\"Z\", \"ZZ\"],\n",
    "            data_map_func=data_map_func,\n",
    "            insert_barriers=insert_barriers,\n",
    "            name=name,\n",
    "        )"
   ]
  },
  {
   "cell_type": "code",
   "execution_count": 3,
   "id": "d3e5dd14",
   "metadata": {},
   "outputs": [
    {
     "name": "stdout",
     "output_type": "stream",
     "text": [
      "     ┌───┐┌──────────────┐                                                »\n",
      "q_0: ┤ H ├┤ U1(2.0*x[0]) ├──■─────────────────────────────────────■────■──»\n",
      "     ├───┤├──────────────┤┌─┴─┐┌───────────────────────────────┐┌─┴─┐  │  »\n",
      "q_1: ┤ H ├┤ U1(2.0*x[1]) ├┤ X ├┤ U1(2.0*(π - x[0])*(π - x[1])) ├┤ X ├──┼──»\n",
      "     ├───┤├──────────────┤└───┘└───────────────────────────────┘└───┘┌─┴─┐»\n",
      "q_2: ┤ H ├┤ U1(2.0*x[2]) ├───────────────────────────────────────────┤ X ├»\n",
      "     └───┘└──────────────┘                                           └───┘»\n",
      "«                                                »\n",
      "«q_0: ───────────────────────────────────■───────»\n",
      "«                                        │       »\n",
      "«q_1: ───────────────────────────────────┼────■──»\n",
      "«     ┌───────────────────────────────┐┌─┴─┐┌─┴─┐»\n",
      "«q_2: ┤ U1(2.0*(π - x[0])*(π - x[2])) ├┤ X ├┤ X ├»\n",
      "«     └───────────────────────────────┘└───┘└───┘»\n",
      "«                                           \n",
      "«q_0: ──────────────────────────────────────\n",
      "«                                           \n",
      "«q_1: ───────────────────────────────────■──\n",
      "«     ┌───────────────────────────────┐┌─┴─┐\n",
      "«q_2: ┤ U1(2.0*(π - x[1])*(π - x[2])) ├┤ X ├\n",
      "«     └───────────────────────────────┘└───┘\n"
     ]
    },
    {
     "name": "stderr",
     "output_type": "stream",
     "text": [
      "C:\\Users\\julia\\anaconda3\\lib\\site-packages\\sympy\\core\\expr.py:2451: SymPyDeprecationWarning: \n",
      "\n",
      "expr_free_symbols method has been deprecated since SymPy 1.9. See\n",
      "https://github.com/sympy/sympy/issues/21494 for more info.\n",
      "\n",
      "  SymPyDeprecationWarning(feature=\"expr_free_symbols method\",\n"
     ]
    }
   ],
   "source": [
    "# Show the feature map for a 3 qubit system, with 1 repetition\n",
    "prep = ZZFeatureMap(3, reps=1)\n",
    "print(prep)"
   ]
  },
  {
   "cell_type": "markdown",
   "id": "5d78873f",
   "metadata": {},
   "source": [
    "# Custom Implementation"
   ]
  },
  {
   "cell_type": "code",
   "execution_count": 4,
   "id": "187481d9",
   "metadata": {},
   "outputs": [],
   "source": [
    "# Define custom function to take the number of qubits and desired repetitions\n",
    "# as input, and return the ZZ-feature mapping\n",
    "\n",
    "def myZZ(numQ, numReps):\n",
    "    qc = QuantumCircuit(numQ)\n",
    "    parameters = ParameterVector('x', numQ)\n",
    "    for i in range(numReps):\n",
    "        # Apply H gate and Rz to each qubit\n",
    "        for j in range(numQ):\n",
    "            qc.h(j)\n",
    "        for j in range(numQ):\n",
    "            qc.rz(2.0*(parameters[j]),j)\n",
    "        # Linear entanglement and Rz    \n",
    "        for j in range(numQ-1):\n",
    "            k = 0\n",
    "            while(j+k < numQ-1):\n",
    "                qc.cx(j,j+k+1)\n",
    "                qc.rz(2.0*((np.pi-parameters[j])*(np.pi-parameters[j+k+1])),j+k+1)\n",
    "                qc.cx(j,j+k+1)\n",
    "                k=k+1\n",
    "    print(qc.draw())"
   ]
  },
  {
   "cell_type": "code",
   "execution_count": 5,
   "id": "ad6fc1b5",
   "metadata": {},
   "outputs": [
    {
     "name": "stdout",
     "output_type": "stream",
     "text": [
      "     ┌───┐┌──────────────┐                                                »\n",
      "q_0: ┤ H ├┤ Rz(2.0*x[0]) ├──■─────────────────────────────────────■────■──»\n",
      "     ├───┤├──────────────┤┌─┴─┐┌───────────────────────────────┐┌─┴─┐  │  »\n",
      "q_1: ┤ H ├┤ Rz(2.0*x[1]) ├┤ X ├┤ Rz(2.0*(π - x[0])*(π - x[1])) ├┤ X ├──┼──»\n",
      "     ├───┤├──────────────┤└───┘└───────────────────────────────┘└───┘┌─┴─┐»\n",
      "q_2: ┤ H ├┤ Rz(2.0*x[2]) ├───────────────────────────────────────────┤ X ├»\n",
      "     └───┘└──────────────┘                                           └───┘»\n",
      "«                                                »\n",
      "«q_0: ───────────────────────────────────■───────»\n",
      "«                                        │       »\n",
      "«q_1: ───────────────────────────────────┼────■──»\n",
      "«     ┌───────────────────────────────┐┌─┴─┐┌─┴─┐»\n",
      "«q_2: ┤ Rz(2.0*(π - x[0])*(π - x[2])) ├┤ X ├┤ X ├»\n",
      "«     └───────────────────────────────┘└───┘└───┘»\n",
      "«                                           \n",
      "«q_0: ──────────────────────────────────────\n",
      "«                                           \n",
      "«q_1: ───────────────────────────────────■──\n",
      "«     ┌───────────────────────────────┐┌─┴─┐\n",
      "«q_2: ┤ Rz(2.0*(π - x[1])*(π - x[2])) ├┤ X ├\n",
      "«     └───────────────────────────────┘└───┘\n"
     ]
    }
   ],
   "source": [
    "# Test for system with 3 qubits and 1 repetition\n",
    "myZZ(3,1)"
   ]
  },
  {
   "cell_type": "code",
   "execution_count": null,
   "id": "000803e7",
   "metadata": {},
   "outputs": [],
   "source": []
  }
 ],
 "metadata": {
  "kernelspec": {
   "display_name": "Python 3 (ipykernel)",
   "language": "python",
   "name": "python3"
  },
  "language_info": {
   "codemirror_mode": {
    "name": "ipython",
    "version": 3
   },
   "file_extension": ".py",
   "mimetype": "text/x-python",
   "name": "python",
   "nbconvert_exporter": "python",
   "pygments_lexer": "ipython3",
   "version": "3.8.8"
  }
 },
 "nbformat": 4,
 "nbformat_minor": 5
}
