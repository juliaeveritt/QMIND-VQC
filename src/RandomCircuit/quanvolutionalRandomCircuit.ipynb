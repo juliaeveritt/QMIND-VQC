{
 "cells": [
  {
   "cell_type": "code",
   "execution_count": 1,
   "id": "266b0646",
   "metadata": {},
   "outputs": [],
   "source": [
    "from qiskit.circuit import QuantumCircuit, Parameter, ParameterVector, Gate\n",
    "from qiskit import Aer\n",
    "from typing import Union\n",
    "from qiskit import assemble, transpile\n",
    "from qiskit.circuit.library import TwoLocal\n",
    "from qiskit.opflow import Z, I, X, Y\n",
    "from qiskit.opflow import StateFn\n",
    "from qiskit.opflow import PauliExpectation, CircuitSampler\n",
    "from qiskit.opflow import Gradient, NaturalGradient, QFI, Hessian\n",
    "from qiskit.utils import QuantumInstance\n",
    "from qiskit.circuit.random import random_circuit\n",
    "from qiskit.circuit.library import PauliFeatureMap\n",
    "\n",
    "import torch\n",
    "import numpy as np\n",
    "\n",
    "from torch.autograd import Function\n",
    "from torchvision import datasets, transforms\n",
    "import torch.optim as optim\n",
    "import torch.nn as nn\n",
    "import torch.nn.functional as F\n",
    "\n",
    "from matplotlib import pyplot as plt\n"
   ]
  },
  {
   "cell_type": "code",
   "execution_count": 2,
   "id": "f3be68a2",
   "metadata": {},
   "outputs": [],
   "source": [
    "from qiskit.providers.aer import AerError\n",
    "\n",
    "# Initialize a GPU backend\n",
    "# Note that the cloud instance for tutorials does not have a GPU\n",
    "# so this will raise an exception.\n",
    "try:\n",
    "    simulator_gpu = Aer.get_backend('aer_simulator')\n",
    "    simulator_gpu.set_options(device='GPU')\n",
    "except AerError as e:\n",
    "    print(e)"
   ]
  },
  {
   "cell_type": "code",
   "execution_count": 98,
   "id": "db9b4a23",
   "metadata": {},
   "outputs": [],
   "source": [
    "# We will implement the efficientSU2 ansatz\n",
    "def quanvolutionESU2(N_dims, gates=['rx', 'rz'], reps=1, entanglement='circular', insert_barrier=True):\n",
    "    \n",
    "    # Function to apply rotation gates to all of our qubits\n",
    "    def rotation(gate, start):\n",
    "        qc = QuantumCircuit(N_dims, name=gate)\n",
    "        for i in range(N_dims):\n",
    "            if gate == 'rx':\n",
    "                qc.rx(parameters[start+i], i)\n",
    "            if gate == 'ry':\n",
    "                qc.ry(parameters[start+i], i)\n",
    "            if gate == 'rz':\n",
    "                qc.rz(parameters[start+i], i)\n",
    "        return qc\n",
    "    \n",
    "    # Function apply the entanglement\n",
    "    def entanglement(type=entanglement):\n",
    "        qc = QuantumCircuit(N_dims, name=type)\n",
    "        if (type == \"circular\"):\n",
    "            qc.cx(N_dims-1, 0)\n",
    "            for i in range(N_dims-1):\n",
    "                target = i + 1\n",
    "                qc.cx(i, target)\n",
    "        if (type == \"linear\"):\n",
    "            for i in range(N_dims - 1):\n",
    "                target = i + 1\n",
    "                qc.cx(i, target)\n",
    "        if (type == \"full\"):\n",
    "            for i in range(N_dims):\n",
    "                for j in range(N_dims):\n",
    "                    if (i != j):\n",
    "                        qc.cx(i, j)\n",
    "        return qc\n",
    "    \n",
    "    # Calculate the number of parameters we will need\n",
    "    num_params = len(gates)*N_dims*(reps + 1)\n",
    "    parameters = ParameterVector('theta', num_params)\n",
    "    qc = QuantumCircuit(N_dims, name=\"EfficientSU2\")\n",
    "    start = 0\n",
    "    \n",
    "    for i in range(reps):\n",
    "        for gate in gates:\n",
    "            qc.compose(rotation(gate, start), range(N_dims), inplace=True)\n",
    "            start += N_dims\n",
    "        \n",
    "        if N_dims > 1: qc.compose(entanglement(), range(N_dims), inplace=True)\n",
    "        \n",
    "        if (reps == 1 or i == reps-1):\n",
    "            if insert_barrier: qc.barrier()\n",
    "            for gate in gates:\n",
    "                qc.compose(rotation(gate, start), range(N_dims), inplace=True)\n",
    "                start += N_dims\n",
    "        if insert_barrier: qc.barrier()\n",
    "    \n",
    "    return qc, parameters"
   ]
  },
  {
   "cell_type": "code",
   "execution_count": 93,
   "id": "82beb8a8",
   "metadata": {},
   "outputs": [
    {
     "name": "stdout",
     "output_type": "stream",
     "text": [
      "48\n"
     ]
    },
    {
     "ename": "AttributeError",
     "evalue": "'tuple' object has no attribute 'num_qubits'",
     "output_type": "error",
     "traceback": [
      "\u001b[1;31m---------------------------------------------------------------------------\u001b[0m",
      "\u001b[1;31mAttributeError\u001b[0m                            Traceback (most recent call last)",
      "\u001b[1;32m~\\AppData\\Local\\Temp/ipykernel_18992/1320048603.py\u001b[0m in \u001b[0;36m<module>\u001b[1;34m\u001b[0m\n\u001b[0;32m      8\u001b[0m \u001b[0mn\u001b[0m \u001b[1;33m=\u001b[0m \u001b[1;36m4\u001b[0m\u001b[1;33m\u001b[0m\u001b[1;33m\u001b[0m\u001b[0m\n\u001b[0;32m      9\u001b[0m \u001b[0mqc\u001b[0m \u001b[1;33m=\u001b[0m \u001b[0mQuantumCircuit\u001b[0m\u001b[1;33m(\u001b[0m\u001b[0mn\u001b[0m\u001b[1;33m,\u001b[0m\u001b[0mn\u001b[0m\u001b[1;33m)\u001b[0m\u001b[1;33m\u001b[0m\u001b[1;33m\u001b[0m\u001b[0m\n\u001b[1;32m---> 10\u001b[1;33m \u001b[0mqc\u001b[0m\u001b[1;33m.\u001b[0m\u001b[0mcompose\u001b[0m\u001b[1;33m(\u001b[0m\u001b[0mrandomLayer\u001b[0m\u001b[1;33m(\u001b[0m\u001b[0mn\u001b[0m\u001b[1;33m,\u001b[0m \u001b[0mreps\u001b[0m\u001b[1;33m=\u001b[0m\u001b[1;36m3\u001b[0m\u001b[1;33m,\u001b[0m \u001b[0mto_gate\u001b[0m\u001b[1;33m=\u001b[0m\u001b[1;32mFalse\u001b[0m\u001b[1;33m,\u001b[0m \u001b[0mentanglement\u001b[0m\u001b[1;33m=\u001b[0m\u001b[1;34m'circular'\u001b[0m\u001b[1;33m)\u001b[0m\u001b[1;33m,\u001b[0m \u001b[0minplace\u001b[0m\u001b[1;33m=\u001b[0m\u001b[1;32mTrue\u001b[0m\u001b[1;33m)\u001b[0m\u001b[1;33m\u001b[0m\u001b[1;33m\u001b[0m\u001b[0m\n\u001b[0m\u001b[0;32m     11\u001b[0m \u001b[0mqc\u001b[0m\u001b[1;33m.\u001b[0m\u001b[0mmeasure\u001b[0m\u001b[1;33m(\u001b[0m\u001b[0mrange\u001b[0m\u001b[1;33m(\u001b[0m\u001b[0mn\u001b[0m\u001b[1;33m)\u001b[0m\u001b[1;33m,\u001b[0m \u001b[0mrange\u001b[0m\u001b[1;33m(\u001b[0m\u001b[0mn\u001b[0m\u001b[1;33m)\u001b[0m\u001b[1;33m)\u001b[0m\u001b[1;33m\u001b[0m\u001b[1;33m\u001b[0m\u001b[0m\n\u001b[0;32m     12\u001b[0m \u001b[0mqc\u001b[0m\u001b[1;33m.\u001b[0m\u001b[0mdraw\u001b[0m\u001b[1;33m(\u001b[0m\u001b[1;34m'mpl'\u001b[0m\u001b[1;33m)\u001b[0m\u001b[1;33m\u001b[0m\u001b[1;33m\u001b[0m\u001b[0m\n",
      "\u001b[1;32m~\\AppData\\Local\\Temp/ipykernel_18992/1320048603.py\u001b[0m in \u001b[0;36mrandomLayer\u001b[1;34m(numQbits, gates, entanglement, reps, to_gate)\u001b[0m\n\u001b[0;32m      2\u001b[0m     \u001b[0mqc\u001b[0m \u001b[1;33m=\u001b[0m \u001b[0mQuantumCircuit\u001b[0m\u001b[1;33m(\u001b[0m\u001b[0mnumQbits\u001b[0m\u001b[1;33m)\u001b[0m\u001b[1;33m\u001b[0m\u001b[1;33m\u001b[0m\u001b[0m\n\u001b[0;32m      3\u001b[0m     \u001b[0minsert_barrier\u001b[0m \u001b[1;33m=\u001b[0m \u001b[1;32mFalse\u001b[0m \u001b[1;32mif\u001b[0m \u001b[0mto_gate\u001b[0m \u001b[1;32melse\u001b[0m \u001b[1;32mTrue\u001b[0m\u001b[1;33m\u001b[0m\u001b[1;33m\u001b[0m\u001b[0m\n\u001b[1;32m----> 4\u001b[1;33m     qc.compose(quanvolutionESU2(numQbits, gates=gates, entanglement=entanglement, reps=reps, \n\u001b[0m\u001b[0;32m      5\u001b[0m                                 insert_barrier=insert_barrier), inplace=True)\n\u001b[0;32m      6\u001b[0m     \u001b[1;32mreturn\u001b[0m \u001b[0mqc\u001b[0m\u001b[1;33m.\u001b[0m\u001b[0mto_gate\u001b[0m\u001b[1;33m(\u001b[0m\u001b[0mlabel\u001b[0m\u001b[1;33m=\u001b[0m\u001b[1;34m\"Random Layer\"\u001b[0m\u001b[1;33m)\u001b[0m \u001b[1;32mif\u001b[0m \u001b[0mto_gate\u001b[0m \u001b[1;32melse\u001b[0m \u001b[0mqc\u001b[0m\u001b[1;33m\u001b[0m\u001b[1;33m\u001b[0m\u001b[0m\n",
      "\u001b[1;32m~\\anaconda3\\lib\\site-packages\\qiskit\\circuit\\quantumcircuit.py\u001b[0m in \u001b[0;36mcompose\u001b[1;34m(self, other, qubits, clbits, front, inplace, wrap)\u001b[0m\n\u001b[0;32m    814\u001b[0m         \u001b[1;32mif\u001b[0m \u001b[1;32mnot\u001b[0m \u001b[0misinstance\u001b[0m\u001b[1;33m(\u001b[0m\u001b[0mother\u001b[0m\u001b[1;33m,\u001b[0m \u001b[0mQuantumCircuit\u001b[0m\u001b[1;33m)\u001b[0m\u001b[1;33m:\u001b[0m\u001b[1;33m\u001b[0m\u001b[1;33m\u001b[0m\u001b[0m\n\u001b[0;32m    815\u001b[0m             \u001b[1;32mif\u001b[0m \u001b[0mqubits\u001b[0m \u001b[1;32mis\u001b[0m \u001b[1;32mNone\u001b[0m\u001b[1;33m:\u001b[0m\u001b[1;33m\u001b[0m\u001b[1;33m\u001b[0m\u001b[0m\n\u001b[1;32m--> 816\u001b[1;33m                 \u001b[0mqubits\u001b[0m \u001b[1;33m=\u001b[0m \u001b[0mlist\u001b[0m\u001b[1;33m(\u001b[0m\u001b[0mrange\u001b[0m\u001b[1;33m(\u001b[0m\u001b[0mother\u001b[0m\u001b[1;33m.\u001b[0m\u001b[0mnum_qubits\u001b[0m\u001b[1;33m)\u001b[0m\u001b[1;33m)\u001b[0m\u001b[1;33m\u001b[0m\u001b[1;33m\u001b[0m\u001b[0m\n\u001b[0m\u001b[0;32m    817\u001b[0m \u001b[1;33m\u001b[0m\u001b[0m\n\u001b[0;32m    818\u001b[0m             \u001b[1;32mif\u001b[0m \u001b[0mclbits\u001b[0m \u001b[1;32mis\u001b[0m \u001b[1;32mNone\u001b[0m\u001b[1;33m:\u001b[0m\u001b[1;33m\u001b[0m\u001b[1;33m\u001b[0m\u001b[0m\n",
      "\u001b[1;31mAttributeError\u001b[0m: 'tuple' object has no attribute 'num_qubits'"
     ]
    }
   ],
   "source": [
    "def randomLayer(numQbits, gates=['rx', 'rz', 'ry'], entanglement='linear', reps=1, to_gate=True) -> Union[Gate, QuantumCircuit]:\n",
    "    qc = QuantumCircuit(numQbits)\n",
    "    insert_barrier = False if to_gate else True \n",
    "    qc.compose(quanvolutionESU2(numQbits, gates=gates, entanglement=entanglement, reps=reps, \n",
    "                                insert_barrier=insert_barrier), inplace=True)\n",
    "    return qc.to_gate(label=\"Random Layer\") if to_gate else qc\n",
    "\n",
    "n = 4\n",
    "qc = QuantumCircuit(n,n)\n",
    "qc.compose(randomLayer(n, reps=3, to_gate=False, entanglement='circular'), inplace=True)\n",
    "qc.measure(range(n), range(n))\n",
    "qc.draw('mpl')"
   ]
  },
  {
   "cell_type": "code",
   "execution_count": 11,
   "id": "9e0a5ffa",
   "metadata": {},
   "outputs": [],
   "source": [
    "class QC:\n",
    "    \"\"\" \n",
    "    This class provides a simple interface for interaction \n",
    "    with the quantum circuit \n",
    "    \"\"\"\n",
    "    \n",
    "    def __init__(self, n_qubits, backend, shots, grad='param_shift', gates=['rx','ry','rz'], entanglement='linear', reps=1):\n",
    "        # --- Circuit definition ---\n",
    "        self._circuit = QuantumCircuit(n_qubits).compose(PauliFeatureMap(n_qubits))\n",
    "        self._circuit.compose(randomLayer(\n",
    "            n_qubits, \n",
    "            entanglement=entanglement, \n",
    "            gates=gates, \n",
    "            reps = reps), inplace=True)\n",
    "        \n",
    "        all_qubits = [i for i in range(n_qubits)]\n",
    "        \n",
    "        self.theta = self._circuit.parameters[0:-n_qubits]\n",
    "        self.input = self._circuit.parameters[-n_qubits::]\n",
    "        \n",
    "        self.nParams = self._circuit.num_parameters - n_qubits\n",
    "        self.nInputs = n_qubits\n",
    "        \n",
    "        # ---------------------------\n",
    "\n",
    "        self.backend = backend\n",
    "        self.shots = shots\n",
    "        \n",
    "        self.q_instance = QuantumInstance(self.backend, shots = self.shots, seed_simulator = 2718, seed_transpiler = 2718)\n",
    "        self.sampler = CircuitSampler(self.q_instance)\n",
    "        self.shifter = Gradient(grad_method=grad)  # parameter-shift rule is the default\n",
    "        self.hamiltonian = Z ^ Z ^ Z ^ Z\n",
    "    \n",
    "    def run(self, thetas, inputs):\n",
    "        \n",
    "        expectation = StateFn(self.hamiltonian, is_measurement=True) @ StateFn(self._circuit.remove_final_measurements(inplace=False))\n",
    "        \n",
    "        value_dict = dict(zip(self.theta + self.input, thetas + inputs))\n",
    "        \n",
    "        in_pauli_basis = PauliExpectation().convert(expectation)        \n",
    "        result = self.sampler.convert(in_pauli_basis, params=value_dict).eval()\n",
    "        \n",
    "        return np.real(np.array([result]))\n",
    "    \n",
    "    def grad(self, thetas, inputs):\n",
    "        \n",
    "        expectation = StateFn(self.hamiltonian, is_measurement=True) @ StateFn(self._circuit.remove_final_measurements(inplace=False))\n",
    "        \n",
    "        expectation = expectation.bind_parameters(dict(zip(self.input, inputs)))\n",
    "        \n",
    "        grad = self.shifter.convert(expectation)\n",
    "        gradient_in_pauli_basis = PauliExpectation().convert(grad)\n",
    "        value_dict = dict(zip(self.theta, thetas))\n",
    "        \n",
    "        result = np.array(self.sampler.convert(gradient_in_pauli_basis, params=value_dict).eval())\n",
    "                          \n",
    "        return np.real(result)\n",
    "    \n",
    "    def grad_inputs(self, thetas, inputs):\n",
    "        \n",
    "        expectation = StateFn(self.hamiltonian, is_measurement=True) @ StateFn(self._circuit.remove_final_measurements(inplace=False))\n",
    "        \n",
    "        expectation = expectation.bind_parameters(dict(zip(self.theta, thetas)))\n",
    "        \n",
    "        grad = self.shifter.convert(expectation)\n",
    "        gradient_in_pauli_basis = PauliExpectation().convert(grad)\n",
    "        value_dict = dict(zip(self.input, inputs))\n",
    "        \n",
    "        result = np.array(self.sampler.convert(gradient_in_pauli_basis, params=value_dict).eval())\n",
    "        \n",
    "        return np.real(result)\n",
    "        \n",
    "\n",
    "\n",
    "        \n",
    "    \n"
   ]
  },
  {
   "cell_type": "code",
   "execution_count": 99,
   "id": "57754ea3",
   "metadata": {},
   "outputs": [],
   "source": [
    "def featureMap(n_qubits, to_gate='False') -> Union[Gate, QuantumCircuit]:\n",
    "    qc = QuantumCircuit(n_qubits)\n",
    "    parameters = ParameterVector('input', n_qubits)\n",
    "    qc.h(range(n_qubits))\n",
    "    for i in range(n_qubits):\n",
    "        qc.ry(parameters[i], i)\n",
    "    return qc, parameters\n",
    "\n",
    "class QuanvCircuit:\n",
    "    def __init__(\n",
    "            self,\n",
    "            kernel_size=2,\n",
    "            backend=None,\n",
    "            shots=1024) -> None:\n",
    "        \"\"\"Parameterized quanvolution circuit wrapper.\n",
    "        \n",
    "        Parameters\n",
    "        ----------\n",
    "        kernel_size : int\n",
    "            Width of square filter used for convolution.\n",
    "        backend : qiskit.providers.Backend \n",
    "            Qiskit quantum backend to execute circuits on.\n",
    "        shots : int\n",
    "            Number of shots used for circuit execution.\n",
    "        \"\"\"\n",
    "        \n",
    "        # Instantiate quantum circuit\n",
    "        self.n_qubits = kernel_size**2\n",
    "        self.qc = QuantumCircuit(self.n_qubits)\n",
    "        \n",
    "        fMap, input_vars = featureMap(self.n_qubits)  # feature map to encode input data\n",
    "        self.qc.compose(fMap, inplace=True)\n",
    "        \n",
    "        ansatz, weights_vars = quanvolutionESU2(  # parameterized ansatz\n",
    "            self.n_qubits,\n",
    "            entanglement='full', \n",
    "            gates=['rx','ry'], \n",
    "            reps=2\n",
    "        )\n",
    "        self.qc.compose(ansatz, inplace=True)\n",
    "        \n",
    "        # Save useful parameter sizes for variational weights and input data\n",
    "        self.weight_vars = weights_vars\n",
    "        self.n_weights = len(weights_vars)\n",
    "\n",
    "        self.input_vars = input_vars\n",
    "        self.n_inputs = self.n_qubits\n",
    "        \n",
    "        # Configure quantum instance\n",
    "        self.backend = backend\n",
    "        self.shots = shots\n",
    "        \n",
    "        self.q_instance = QuantumInstance(self.backend, shots=self.shots, seed_simulator=2718, seed_transpiler=2718)\n",
    "        self.sampler = CircuitSampler(self.q_instance)\n",
    "        self.shifter = Gradient()  # parameter-shift rule is the default\n",
    "        self.hamiltonian = Z ^ Z ^ Z ^ Z\n",
    "    \n",
    "    def execute(self, input_data, weights):\n",
    "        # Set measurement expectation\n",
    "        expectation = StateFn(self.hamiltonian, is_measurement=True) @ StateFn(self.qc)\n",
    "        in_pauli_basis = PauliExpectation().convert(expectation)        \n",
    "\n",
    "        # Dind values to circuit and get expectation value\n",
    "        value_dict = dict(zip(self.weight_vars, weights))\n",
    "        value_dict.update(dict(zip(self.input_vars, input_data)))\n",
    "        result = self.sampler.convert(in_pauli_basis, params=value_dict).eval()\n",
    "        \n",
    "        return np.real(np.array([result]))\n",
    "    \n",
    "    def grad_weights(self, input_data, weights):\n",
    "        \n",
    "        expectation = StateFn(self.hamiltonian, is_measurement=True) @ StateFn(self.qc)\n",
    "                \n",
    "        expectation = expectation.bind_parameters(dict(zip(self.input_vars, input_data)))\n",
    "        \n",
    "        \n",
    "        grad = self.shifter.convert(expectation)\n",
    "        gradient_in_pauli_basis = PauliExpectation().convert(grad)\n",
    "        value_dict = dict(zip(self.weight_vars, weights))\n",
    "        \n",
    "        result = np.array(self.sampler.convert(gradient_in_pauli_basis, params=value_dict).eval())\n",
    "    \n",
    "        return np.real(result)\n",
    "\n",
    "    def grad_input(self, input_data, weights):\n",
    "                \n",
    "        expectation = StateFn(self.hamiltonian, is_measurement=True) @ StateFn(self.qc)\n",
    "        expectation = expectation.bind_parameters(dict(zip(self.weight_vars, weights)))\n",
    "                \n",
    "        grad = self.shifter.convert(expectation)\n",
    "        gradient_in_pauli_basis = PauliExpectation().convert(grad)\n",
    "        value_dict = dict(zip(self.input_vars, input_data))\n",
    "        \n",
    "        result = np.array(self.sampler.convert(gradient_in_pauli_basis, params=value_dict).eval())\n",
    "    \n",
    "        return np.real(result)"
   ]
  },
  {
   "cell_type": "code",
   "execution_count": 100,
   "id": "d8c6d82e",
   "metadata": {
    "scrolled": false
   },
   "outputs": [
    {
     "name": "stdout",
     "output_type": "stream",
     "text": [
      "[ 2.05078125e-02 -1.07421875e-02  1.26953125e-02  1.75781250e-02\n",
      " -9.76562500e-04  2.68882139e-17  7.03125000e-02 -6.64062500e-02\n",
      " -1.07421875e-02 -3.02734375e-02 -3.32031250e-02 -1.56250000e-02\n",
      " -5.56640625e-02  6.54296875e-02  4.49218750e-02 -1.85546875e-02\n",
      " -3.90625000e-03 -1.95312500e-02 -4.19921875e-02 -1.85546875e-02\n",
      " -5.85937500e-03 -7.12890625e-02 -1.43554688e-01 -1.77734375e-01]\n",
      "[-0.02050781  0.0546875   0.05175781 -0.05859375]\n"
     ]
    }
   ],
   "source": [
    "qc = QuanvCircuit(kernel_size=2, backend=Aer.get_backend('qasm_simulator'))\n",
    "print(qc.grad_weights([0.2 for i in range(qc.n_inputs)], [0.2 for i in range(qc.n_weights)]))\n",
    "print(qc.grad_input([0.2 for i in range(qc.n_inputs)], [0.2 for i in range(qc.n_weights)]))"
   ]
  },
  {
   "cell_type": "code",
   "execution_count": null,
   "id": "4f0be2c6",
   "metadata": {},
   "outputs": [],
   "source": [
    "class HybridFunction(Function):\n",
    "    \"\"\" Hybrid quantum - classical function definition \"\"\"\n",
    "    \n",
    "    @staticmethod\n",
    "    def forward(ctx, input, quantum_circuit, shift):\n",
    "        \"\"\" Forward pass computation \"\"\"\n",
    "        ctx.shift = shift\n",
    "        ctx.quantum_circuit = quantum_circuit\n",
    "        expectation_z = ctx.quantum_circuit.run(input.tolist())\n",
    "        result = torch.tensor([expectation_z])\n",
    "        ctx.save_for_backward(input, result)\n",
    "\n",
    "        return result\n",
    "        \n",
    "    @staticmethod\n",
    "    def backward(ctx, grad_output):\n",
    "        \"\"\" Backward pass computation \"\"\"\n",
    "        input, expectation_z = ctx.saved_tensors\n",
    "        input_list = np.array(input.tolist())\n",
    "        \n",
    "        gradients = ctx.quantum_circuit.grad(input_list).T\n",
    "                \n",
    "        return torch.tensor([gradients.tolist()]).float() * grad_output.float(), None, None\n",
    "\n",
    "class Hybrid(nn.Module):\n",
    "    \"\"\" Hybrid quantum - classical layer definition \"\"\"\n",
    "    \n",
    "    def __init__(self, backend, shots, shift, nQubits, grad='param_shift', gates=['rx','ry','rz'], entanglement='linear', reps=1):\n",
    "        super(Hybrid, self).__init__()\n",
    "        self.qc = QC(nQubits, backend, shots, grad=grad, gates=gates, entanglement=entanglement, reps=reps)\n",
    "        self.shift = [np.pi/2 for i in range(self.qc.nParams)]\n",
    "        \n",
    "    def forward(self, input):\n",
    "        return HybridFunction.apply(input, self.qc, self.shift)"
   ]
  },
  {
   "cell_type": "code",
   "execution_count": 28,
   "id": "5235ea43",
   "metadata": {},
   "outputs": [
    {
     "ename": "AttributeError",
     "evalue": "module 'sklearn.datasets' has no attribute 'MNIST'",
     "output_type": "error",
     "traceback": [
      "\u001b[1;31m---------------------------------------------------------------------------\u001b[0m",
      "\u001b[1;31mAttributeError\u001b[0m                            Traceback (most recent call last)",
      "\u001b[1;32m<ipython-input-28-986a9266996a>\u001b[0m in \u001b[0;36m<module>\u001b[1;34m\u001b[0m\n\u001b[0;32m      2\u001b[0m \u001b[0mn_samples\u001b[0m \u001b[1;33m=\u001b[0m \u001b[1;36m100\u001b[0m\u001b[1;33m\u001b[0m\u001b[1;33m\u001b[0m\u001b[0m\n\u001b[0;32m      3\u001b[0m \u001b[1;33m\u001b[0m\u001b[0m\n\u001b[1;32m----> 4\u001b[1;33m X_train = datasets.MNIST(root='./data', train=True, download=True,\n\u001b[0m\u001b[0;32m      5\u001b[0m                          transform=transforms.Compose([transforms.ToTensor()]))\n\u001b[0;32m      6\u001b[0m \u001b[1;33m\u001b[0m\u001b[0m\n",
      "\u001b[1;31mAttributeError\u001b[0m: module 'sklearn.datasets' has no attribute 'MNIST'"
     ]
    }
   ],
   "source": [
    "# Concentrating on the first 100 samples\n",
    "n_samples = 100\n",
    "\n",
    "X_train = datasets.MNIST(root='./data', train=True, download=True,\n",
    "                         transform=transforms.Compose([transforms.ToTensor()]))\n",
    "\n",
    "# Leaving only labels 0 and 1 \n",
    "idx = np.append(np.where(X_train.targets == 0)[0][:n_samples], \n",
    "                np.where(X_train.targets == 1)[0][:n_samples])\n",
    "\n",
    "X_train.data = X_train.data[idx]\n",
    "X_train.targets = X_train.targets[idx]\n",
    "\n",
    "train_loader = torch.utils.data.DataLoader(X_train, batch_size=1, shuffle=True)"
   ]
  },
  {
   "cell_type": "code",
   "execution_count": 594,
   "id": "ff2dc050",
   "metadata": {},
   "outputs": [
    {
     "data": {
      "image/png": "[encoded data removed]",
      "text/plain": [
       "<Figure size 720x216 with 6 Axes>"
      ]
     },
     "metadata": {},
     "output_type": "display_data"
    }
   ],
   "source": [
    "n_samples_show = 6\n",
    "\n",
    "data_iter = iter(train_loader)\n",
    "fig, axes = plt.subplots(nrows=1, ncols=n_samples_show, figsize=(10, 3))\n",
    "\n",
    "while n_samples_show > 0:\n",
    "    images, targets = data_iter.__next__()\n",
    "\n",
    "    axes[n_samples_show - 1].imshow(images[0].numpy().squeeze(), cmap='gray')\n",
    "    axes[n_samples_show - 1].set_xticks([])\n",
    "    axes[n_samples_show - 1].set_yticks([])\n",
    "    axes[n_samples_show - 1].set_title(\"Labeled: {}\".format(targets.item()))\n",
    "    \n",
    "    n_samples_show -= 1"
   ]
  },
  {
   "cell_type": "code",
   "execution_count": 322,
   "id": "b1ea5c65",
   "metadata": {},
   "outputs": [],
   "source": [
    "n_samples = 50\n",
    "\n",
    "X_test = datasets.MNIST(root='./data', train=False, download=True,\n",
    "                        transform=transforms.Compose([transforms.ToTensor()]))\n",
    "\n",
    "idx = np.append(np.where(X_test.targets == 0)[0][:n_samples], \n",
    "                np.where(X_test.targets == 1)[0][:n_samples])\n",
    "\n",
    "X_test.data = X_test.data[idx]\n",
    "X_test.targets = X_test.targets[idx]\n",
    "\n",
    "test_loader = torch.utils.data.DataLoader(X_test, batch_size=1, shuffle=True)"
   ]
  },
  {
   "cell_type": "code",
   "execution_count": null,
   "id": "1a11cf67",
   "metadata": {},
   "outputs": [],
   "source": []
  },
  {
   "cell_type": "code",
   "execution_count": 4,
   "id": "a0345e02",
   "metadata": {},
   "outputs": [],
   "source": [
    "class Net(nn.Module):\n",
    "    def __init__(self):\n",
    "        super(Net, self).__init__()\n",
    "        self.conv1 = nn.Conv2d(1, 6, kernel_size=5)\n",
    "        self.conv2 = nn.Conv2d(6, 16, kernel_size=5)\n",
    "        self.dropout = nn.Dropout2d()\n",
    "        self.fc1 = nn.Linear(256, 64)\n",
    "        self.hybrid = Hybrid(Aer.get_backend('qasm_simulator'), 16, np.pi / 2)\n",
    "        n = self.hybrid.qc.nParams\n",
    "        self.fc2 = nn.Linear(64, n)\n",
    "\n",
    "    def forward(self, x):\n",
    "        x = F.relu(self.conv1(x))\n",
    "        x = F.max_pool2d(x, 2)\n",
    "        x = F.relu(self.conv2(x))\n",
    "        x = F.max_pool2d(x, 2)\n",
    "        x = self.dropout(x)\n",
    "        x = x.view(1, -1)\n",
    "        x = F.relu(self.fc1(x))\n",
    "        x = self.fc2(x)\n",
    "        x = self.hybrid(x)\n",
    "        return torch.cat((x, 1 - x), -1)"
   ]
  },
  {
   "cell_type": "code",
   "execution_count": 5,
   "id": "0e2f83b9",
   "metadata": {
    "scrolled": true
   },
   "outputs": [
    {
     "ename": "TypeError",
     "evalue": "__init__() missing 1 required positional argument: 'nQubits'",
     "output_type": "error",
     "traceback": [
      "\u001b[1;31m---------------------------------------------------------------------------\u001b[0m",
      "\u001b[1;31mTypeError\u001b[0m                                 Traceback (most recent call last)",
      "\u001b[1;32m<ipython-input-5-0d235052f368>\u001b[0m in \u001b[0;36m<module>\u001b[1;34m\u001b[0m\n\u001b[1;32m----> 1\u001b[1;33m \u001b[0mmodel\u001b[0m \u001b[1;33m=\u001b[0m \u001b[0mNet\u001b[0m\u001b[1;33m(\u001b[0m\u001b[1;33m)\u001b[0m\u001b[1;33m\u001b[0m\u001b[1;33m\u001b[0m\u001b[0m\n\u001b[0m\u001b[0;32m      2\u001b[0m \u001b[0moptimizer\u001b[0m \u001b[1;33m=\u001b[0m \u001b[0moptim\u001b[0m\u001b[1;33m.\u001b[0m\u001b[0mAdam\u001b[0m\u001b[1;33m(\u001b[0m\u001b[0mmodel\u001b[0m\u001b[1;33m.\u001b[0m\u001b[0mparameters\u001b[0m\u001b[1;33m(\u001b[0m\u001b[1;33m)\u001b[0m\u001b[1;33m,\u001b[0m \u001b[0mlr\u001b[0m\u001b[1;33m=\u001b[0m\u001b[1;36m0.001\u001b[0m\u001b[1;33m)\u001b[0m\u001b[1;33m\u001b[0m\u001b[1;33m\u001b[0m\u001b[0m\n\u001b[0;32m      3\u001b[0m \u001b[0mloss_func\u001b[0m \u001b[1;33m=\u001b[0m \u001b[0mnn\u001b[0m\u001b[1;33m.\u001b[0m\u001b[0mNLLLoss\u001b[0m\u001b[1;33m(\u001b[0m\u001b[1;33m)\u001b[0m\u001b[1;33m\u001b[0m\u001b[1;33m\u001b[0m\u001b[0m\n\u001b[0;32m      4\u001b[0m \u001b[1;33m\u001b[0m\u001b[0m\n\u001b[0;32m      5\u001b[0m \u001b[0mepochs\u001b[0m \u001b[1;33m=\u001b[0m \u001b[1;36m20\u001b[0m\u001b[1;33m\u001b[0m\u001b[1;33m\u001b[0m\u001b[0m\n",
      "\u001b[1;32m<ipython-input-4-91a285d50cca>\u001b[0m in \u001b[0;36m__init__\u001b[1;34m(self)\u001b[0m\n\u001b[0;32m      6\u001b[0m         \u001b[0mself\u001b[0m\u001b[1;33m.\u001b[0m\u001b[0mdropout\u001b[0m \u001b[1;33m=\u001b[0m \u001b[0mnn\u001b[0m\u001b[1;33m.\u001b[0m\u001b[0mDropout2d\u001b[0m\u001b[1;33m(\u001b[0m\u001b[1;33m)\u001b[0m\u001b[1;33m\u001b[0m\u001b[1;33m\u001b[0m\u001b[0m\n\u001b[0;32m      7\u001b[0m         \u001b[0mself\u001b[0m\u001b[1;33m.\u001b[0m\u001b[0mfc1\u001b[0m \u001b[1;33m=\u001b[0m \u001b[0mnn\u001b[0m\u001b[1;33m.\u001b[0m\u001b[0mLinear\u001b[0m\u001b[1;33m(\u001b[0m\u001b[1;36m256\u001b[0m\u001b[1;33m,\u001b[0m \u001b[1;36m64\u001b[0m\u001b[1;33m)\u001b[0m\u001b[1;33m\u001b[0m\u001b[1;33m\u001b[0m\u001b[0m\n\u001b[1;32m----> 8\u001b[1;33m         \u001b[0mself\u001b[0m\u001b[1;33m.\u001b[0m\u001b[0mhybrid\u001b[0m \u001b[1;33m=\u001b[0m \u001b[0mHybrid\u001b[0m\u001b[1;33m(\u001b[0m\u001b[0mAer\u001b[0m\u001b[1;33m.\u001b[0m\u001b[0mget_backend\u001b[0m\u001b[1;33m(\u001b[0m\u001b[1;34m'qasm_simulator'\u001b[0m\u001b[1;33m)\u001b[0m\u001b[1;33m,\u001b[0m \u001b[1;36m16\u001b[0m\u001b[1;33m,\u001b[0m \u001b[0mnp\u001b[0m\u001b[1;33m.\u001b[0m\u001b[0mpi\u001b[0m \u001b[1;33m/\u001b[0m \u001b[1;36m2\u001b[0m\u001b[1;33m)\u001b[0m\u001b[1;33m\u001b[0m\u001b[1;33m\u001b[0m\u001b[0m\n\u001b[0m\u001b[0;32m      9\u001b[0m         \u001b[0mn\u001b[0m \u001b[1;33m=\u001b[0m \u001b[0mself\u001b[0m\u001b[1;33m.\u001b[0m\u001b[0mhybrid\u001b[0m\u001b[1;33m.\u001b[0m\u001b[0mqc\u001b[0m\u001b[1;33m.\u001b[0m\u001b[0mnParams\u001b[0m\u001b[1;33m\u001b[0m\u001b[1;33m\u001b[0m\u001b[0m\n\u001b[0;32m     10\u001b[0m         \u001b[0mself\u001b[0m\u001b[1;33m.\u001b[0m\u001b[0mfc2\u001b[0m \u001b[1;33m=\u001b[0m \u001b[0mnn\u001b[0m\u001b[1;33m.\u001b[0m\u001b[0mLinear\u001b[0m\u001b[1;33m(\u001b[0m\u001b[1;36m64\u001b[0m\u001b[1;33m,\u001b[0m \u001b[0mn\u001b[0m\u001b[1;33m)\u001b[0m\u001b[1;33m\u001b[0m\u001b[1;33m\u001b[0m\u001b[0m\n",
      "\u001b[1;31mTypeError\u001b[0m: __init__() missing 1 required positional argument: 'nQubits'"
     ]
    }
   ],
   "source": [
    "model = Net()\n",
    "optimizer = optim.Adam(model.parameters(), lr=0.001)\n",
    "loss_func = nn.NLLLoss()\n",
    "\n",
    "epochs = 20\n",
    "loss_list = []\n",
    "\n",
    "model.train()\n",
    "for epoch in range(epochs):\n",
    "    total_loss = []\n",
    "    for batch_idx, (data, target) in enumerate(train_loader):\n",
    "        optimizer.zero_grad()\n",
    "        # Forward pass\n",
    "        output = model(data)\n",
    "        # Calculating loss\n",
    "        print(output, target)\n",
    "        loss = loss_func(output, target)\n",
    "        # Backward pass\n",
    "        loss.backward()\n",
    "        # Optimize the weights\n",
    "        optimizer.step()\n",
    "        \n",
    "        total_loss.append(loss.item())\n",
    "    loss_list.append(sum(total_loss)/len(total_loss))\n",
    "    print('Training [{:.0f}%]\\tLoss: {:.4f}'.format(\n",
    "        100. * (epoch + 1) / epochs, loss_list[-1]))"
   ]
  },
  {
   "cell_type": "code",
   "execution_count": 156,
   "id": "31853486",
   "metadata": {},
   "outputs": [
    {
     "data": {
      "text/plain": [
       "Text(0, 0.5, 'Neg Log Likelihood Loss')"
      ]
     },
     "execution_count": 156,
     "metadata": {},
     "output_type": "execute_result"
    },
    {
     "data": {
      "image/png": "[encoded data removed]",
      "text/plain": [
       "<Figure size 432x288 with 1 Axes>"
      ]
     },
     "metadata": {
      "needs_background": "light"
     },
     "output_type": "display_data"
    }
   ],
   "source": [
    "plt.plot(loss_list)\n",
    "plt.title('Hybrid NN Training Convergence')\n",
    "plt.xlabel('Training Iterations')\n",
    "plt.ylabel('Neg Log Likelihood Loss')"
   ]
  },
  {
   "cell_type": "code",
   "execution_count": 8,
   "id": "52a73cf9",
   "metadata": {},
   "outputs": [],
   "source": [
    "import numpy as np\n",
    "from sklearn import datasets\n",
    "from sklearn.model_selection import train_test_split\n",
    "from sklearn.preprocessing import StandardScaler, MinMaxScaler\n",
    "\n"
   ]
  },
  {
   "cell_type": "code",
   "execution_count": 21,
   "id": "1de4960e",
   "metadata": {},
   "outputs": [],
   "source": [
    "def load_iris_data():\n",
    "    x, y = datasets.load_iris(return_X_y=True)\n",
    "\n",
    "    # Reduce problem to binary classification\n",
    "    is_class_2 = (y == 2) \n",
    "    x = x[~is_class_2]\n",
    "    y = y[~is_class_2]\n",
    "    #y = y * 2 - 1  # map form {0, 1} to Z expectation values of {-1,+1}\n",
    "\n",
    "    x_train, x_test, y_train, y_test = train_test_split(\n",
    "        x, y, test_size=0.2, shuffle=True, random_state=123\n",
    "    )\n",
    "\n",
    "    # Standardize data (i.e. mean of 0 with unit variance)\n",
    "    std_scale = StandardScaler().fit(x_train)\n",
    "    x_train = std_scale.transform(x_train)\n",
    "    x_test = std_scale.transform(x_test)\n",
    "\n",
    "    # Scale to between -1 and 1\n",
    "    X_std = np.append(x_train, x_test, axis=0)\n",
    "    minmax_scale = MinMaxScaler((0, 1)).fit(X_std)\n",
    "    x_train = minmax_scale.transform(x_train)\n",
    "    x_test = minmax_scale.transform(x_test)\n",
    "    return x_train, x_test, y_train, y_test"
   ]
  },
  {
   "cell_type": "code",
   "execution_count": 22,
   "id": "3a933a95",
   "metadata": {},
   "outputs": [],
   "source": [
    "x_train, x_test, y_train, y_test = load_iris_data()\n",
    "\n",
    "x_train = torch.FloatTensor(x_train)\n",
    "x_test = torch.FloatTensor(x_test)\n",
    "y_train = torch.DoubleTensor(y_train).reshape(-1,1)\n",
    "y_test = torch.DoubleTensor(y_test)\n"
   ]
  },
  {
   "cell_type": "code",
   "execution_count": 23,
   "id": "15ce66ea",
   "metadata": {},
   "outputs": [],
   "source": [
    "class Net(nn.Module):\n",
    "    def __init__(self):\n",
    "        super(Net, self).__init__()\n",
    "        \n",
    "        self.hybrid = Hybrid(Aer.get_backend('qasm_simulator'), \n",
    "                             512, \n",
    "                             np.pi / 4, # This doesn't do anything right now\n",
    "                             nQubits=2, \n",
    "                             grad='lin_comb',\n",
    "                             entanglement='linear',\n",
    "                             gates=['rx', 'ry', 'rz'],\n",
    "                             reps=2)\n",
    "        \n",
    "        n = self.hybrid.qc.nParams\n",
    "        self.fc2 = nn.Linear(4, n)\n",
    "\n",
    "    def forward(self, x):\n",
    "        x = self.fc2(x)\n",
    "        x = self.hybrid(x)\n",
    "        x = torch.sigmoid(x)\n",
    "        return torch.cat((x, 1-x))"
   ]
  },
  {
   "cell_type": "code",
   "execution_count": 24,
   "id": "6551b9d7",
   "metadata": {},
   "outputs": [
    {
     "name": "stderr",
     "output_type": "stream",
     "text": [
      "C:\\Users\\coshc\\anaconda3\\lib\\site-packages\\torch\\nn\\init.py:403: UserWarning: Initializing zero-element tensors is a no-op\n",
      "  warnings.warn(\"Initializing zero-element tensors is a no-op\")\n"
     ]
    },
    {
     "ename": "ValueError",
     "evalue": "The operator we are taking the gradient of is not parameterized!",
     "output_type": "error",
     "traceback": [
      "\u001b[1;31m---------------------------------------------------------------------------\u001b[0m",
      "\u001b[1;31mValueError\u001b[0m                                Traceback (most recent call last)",
      "\u001b[1;32m<ipython-input-24-1e164fd92d33>\u001b[0m in \u001b[0;36m<module>\u001b[1;34m\u001b[0m\n\u001b[0;32m     16\u001b[0m         \u001b[0mloss\u001b[0m \u001b[1;33m=\u001b[0m \u001b[0mloss_func\u001b[0m\u001b[1;33m(\u001b[0m\u001b[0moutput\u001b[0m\u001b[1;33m[\u001b[0m\u001b[1;36m0\u001b[0m\u001b[1;33m]\u001b[0m\u001b[1;33m,\u001b[0m \u001b[0mtarget\u001b[0m\u001b[1;33m[\u001b[0m\u001b[1;36m0\u001b[0m\u001b[1;33m]\u001b[0m\u001b[1;33m)\u001b[0m\u001b[1;33m\u001b[0m\u001b[1;33m\u001b[0m\u001b[0m\n\u001b[0;32m     17\u001b[0m         \u001b[1;31m# Backward pass\u001b[0m\u001b[1;33m\u001b[0m\u001b[1;33m\u001b[0m\u001b[1;33m\u001b[0m\u001b[0m\n\u001b[1;32m---> 18\u001b[1;33m         \u001b[0mloss\u001b[0m\u001b[1;33m.\u001b[0m\u001b[0mbackward\u001b[0m\u001b[1;33m(\u001b[0m\u001b[1;33m)\u001b[0m\u001b[1;33m\u001b[0m\u001b[1;33m\u001b[0m\u001b[0m\n\u001b[0m\u001b[0;32m     19\u001b[0m         \u001b[1;31m# Optimize the weights\u001b[0m\u001b[1;33m\u001b[0m\u001b[1;33m\u001b[0m\u001b[1;33m\u001b[0m\u001b[0m\n\u001b[0;32m     20\u001b[0m         \u001b[0moptimizer\u001b[0m\u001b[1;33m.\u001b[0m\u001b[0mstep\u001b[0m\u001b[1;33m(\u001b[0m\u001b[1;33m)\u001b[0m\u001b[1;33m\u001b[0m\u001b[1;33m\u001b[0m\u001b[0m\n",
      "\u001b[1;32m~\\anaconda3\\lib\\site-packages\\torch\\_tensor.py\u001b[0m in \u001b[0;36mbackward\u001b[1;34m(self, gradient, retain_graph, create_graph, inputs)\u001b[0m\n\u001b[0;32m    361\u001b[0m                 \u001b[0mcreate_graph\u001b[0m\u001b[1;33m=\u001b[0m\u001b[0mcreate_graph\u001b[0m\u001b[1;33m,\u001b[0m\u001b[1;33m\u001b[0m\u001b[1;33m\u001b[0m\u001b[0m\n\u001b[0;32m    362\u001b[0m                 inputs=inputs)\n\u001b[1;32m--> 363\u001b[1;33m         \u001b[0mtorch\u001b[0m\u001b[1;33m.\u001b[0m\u001b[0mautograd\u001b[0m\u001b[1;33m.\u001b[0m\u001b[0mbackward\u001b[0m\u001b[1;33m(\u001b[0m\u001b[0mself\u001b[0m\u001b[1;33m,\u001b[0m \u001b[0mgradient\u001b[0m\u001b[1;33m,\u001b[0m \u001b[0mretain_graph\u001b[0m\u001b[1;33m,\u001b[0m \u001b[0mcreate_graph\u001b[0m\u001b[1;33m,\u001b[0m \u001b[0minputs\u001b[0m\u001b[1;33m=\u001b[0m\u001b[0minputs\u001b[0m\u001b[1;33m)\u001b[0m\u001b[1;33m\u001b[0m\u001b[1;33m\u001b[0m\u001b[0m\n\u001b[0m\u001b[0;32m    364\u001b[0m \u001b[1;33m\u001b[0m\u001b[0m\n\u001b[0;32m    365\u001b[0m     \u001b[1;32mdef\u001b[0m \u001b[0mregister_hook\u001b[0m\u001b[1;33m(\u001b[0m\u001b[0mself\u001b[0m\u001b[1;33m,\u001b[0m \u001b[0mhook\u001b[0m\u001b[1;33m)\u001b[0m\u001b[1;33m:\u001b[0m\u001b[1;33m\u001b[0m\u001b[1;33m\u001b[0m\u001b[0m\n",
      "\u001b[1;32m~\\anaconda3\\lib\\site-packages\\torch\\autograd\\__init__.py\u001b[0m in \u001b[0;36mbackward\u001b[1;34m(tensors, grad_tensors, retain_graph, create_graph, grad_variables, inputs)\u001b[0m\n\u001b[0;32m    171\u001b[0m     \u001b[1;31m# some Python versions print out the first line of a multi-line function\u001b[0m\u001b[1;33m\u001b[0m\u001b[1;33m\u001b[0m\u001b[1;33m\u001b[0m\u001b[0m\n\u001b[0;32m    172\u001b[0m     \u001b[1;31m# calls in the traceback and some print out the last line\u001b[0m\u001b[1;33m\u001b[0m\u001b[1;33m\u001b[0m\u001b[1;33m\u001b[0m\u001b[0m\n\u001b[1;32m--> 173\u001b[1;33m     Variable._execution_engine.run_backward(  # Calls into the C++ engine to run the backward pass\n\u001b[0m\u001b[0;32m    174\u001b[0m         \u001b[0mtensors\u001b[0m\u001b[1;33m,\u001b[0m \u001b[0mgrad_tensors_\u001b[0m\u001b[1;33m,\u001b[0m \u001b[0mretain_graph\u001b[0m\u001b[1;33m,\u001b[0m \u001b[0mcreate_graph\u001b[0m\u001b[1;33m,\u001b[0m \u001b[0minputs\u001b[0m\u001b[1;33m,\u001b[0m\u001b[1;33m\u001b[0m\u001b[1;33m\u001b[0m\u001b[0m\n\u001b[0;32m    175\u001b[0m         allow_unreachable=True, accumulate_grad=True)  # Calls into the C++ engine to run the backward pass\n",
      "\u001b[1;32m~\\anaconda3\\lib\\site-packages\\torch\\autograd\\function.py\u001b[0m in \u001b[0;36mapply\u001b[1;34m(self, *args)\u001b[0m\n\u001b[0;32m    251\u001b[0m                                \"of them.\")\n\u001b[0;32m    252\u001b[0m         \u001b[0muser_fn\u001b[0m \u001b[1;33m=\u001b[0m \u001b[0mvjp_fn\u001b[0m \u001b[1;32mif\u001b[0m \u001b[0mvjp_fn\u001b[0m \u001b[1;32mis\u001b[0m \u001b[1;32mnot\u001b[0m \u001b[0mFunction\u001b[0m\u001b[1;33m.\u001b[0m\u001b[0mvjp\u001b[0m \u001b[1;32melse\u001b[0m \u001b[0mbackward_fn\u001b[0m\u001b[1;33m\u001b[0m\u001b[1;33m\u001b[0m\u001b[0m\n\u001b[1;32m--> 253\u001b[1;33m         \u001b[1;32mreturn\u001b[0m \u001b[0muser_fn\u001b[0m\u001b[1;33m(\u001b[0m\u001b[0mself\u001b[0m\u001b[1;33m,\u001b[0m \u001b[1;33m*\u001b[0m\u001b[0margs\u001b[0m\u001b[1;33m)\u001b[0m\u001b[1;33m\u001b[0m\u001b[1;33m\u001b[0m\u001b[0m\n\u001b[0m\u001b[0;32m    254\u001b[0m \u001b[1;33m\u001b[0m\u001b[0m\n\u001b[0;32m    255\u001b[0m     \u001b[1;32mdef\u001b[0m \u001b[0mapply_jvp\u001b[0m\u001b[1;33m(\u001b[0m\u001b[0mself\u001b[0m\u001b[1;33m,\u001b[0m \u001b[1;33m*\u001b[0m\u001b[0margs\u001b[0m\u001b[1;33m)\u001b[0m\u001b[1;33m:\u001b[0m\u001b[1;33m\u001b[0m\u001b[1;33m\u001b[0m\u001b[0m\n",
      "\u001b[1;32m<ipython-input-20-b72765175868>\u001b[0m in \u001b[0;36mbackward\u001b[1;34m(ctx, grad_output)\u001b[0m\n\u001b[0;32m     35\u001b[0m         gradients = np.array(gradients).T\"\"\"\n\u001b[0;32m     36\u001b[0m \u001b[1;33m\u001b[0m\u001b[0m\n\u001b[1;32m---> 37\u001b[1;33m         \u001b[0mgradients\u001b[0m \u001b[1;33m=\u001b[0m \u001b[0mctx\u001b[0m\u001b[1;33m.\u001b[0m\u001b[0mquantum_circuit\u001b[0m\u001b[1;33m.\u001b[0m\u001b[0mgrad\u001b[0m\u001b[1;33m(\u001b[0m\u001b[0minput_list\u001b[0m\u001b[1;33m)\u001b[0m\u001b[1;33m.\u001b[0m\u001b[0mT\u001b[0m\u001b[1;33m\u001b[0m\u001b[1;33m\u001b[0m\u001b[0m\n\u001b[0m\u001b[0;32m     38\u001b[0m \u001b[1;33m\u001b[0m\u001b[0m\n\u001b[0;32m     39\u001b[0m         \u001b[1;31m#print(torch.tensor([gradients.tolist()]).float() * grad_output.float())\u001b[0m\u001b[1;33m\u001b[0m\u001b[1;33m\u001b[0m\u001b[1;33m\u001b[0m\u001b[0m\n",
      "\u001b[1;32m<ipython-input-19-69703424e5f9>\u001b[0m in \u001b[0;36mgrad\u001b[1;34m(self, thetas)\u001b[0m\n\u001b[0;32m     64\u001b[0m         \u001b[0mexpectation\u001b[0m \u001b[1;33m=\u001b[0m \u001b[0mStateFn\u001b[0m\u001b[1;33m(\u001b[0m\u001b[0mself\u001b[0m\u001b[1;33m.\u001b[0m\u001b[0mhamiltonian\u001b[0m\u001b[1;33m,\u001b[0m \u001b[0mis_measurement\u001b[0m\u001b[1;33m=\u001b[0m\u001b[1;32mTrue\u001b[0m\u001b[1;33m)\u001b[0m \u001b[1;33m@\u001b[0m \u001b[0mStateFn\u001b[0m\u001b[1;33m(\u001b[0m\u001b[0mself\u001b[0m\u001b[1;33m.\u001b[0m\u001b[0m_circuit\u001b[0m\u001b[1;33m.\u001b[0m\u001b[0mremove_final_measurements\u001b[0m\u001b[1;33m(\u001b[0m\u001b[0minplace\u001b[0m\u001b[1;33m=\u001b[0m\u001b[1;32mFalse\u001b[0m\u001b[1;33m)\u001b[0m\u001b[1;33m)\u001b[0m\u001b[1;33m\u001b[0m\u001b[1;33m\u001b[0m\u001b[0m\n\u001b[0;32m     65\u001b[0m \u001b[1;33m\u001b[0m\u001b[0m\n\u001b[1;32m---> 66\u001b[1;33m         \u001b[0mgrad\u001b[0m \u001b[1;33m=\u001b[0m \u001b[0mself\u001b[0m\u001b[1;33m.\u001b[0m\u001b[0mshifter\u001b[0m\u001b[1;33m.\u001b[0m\u001b[0mconvert\u001b[0m\u001b[1;33m(\u001b[0m\u001b[0mexpectation\u001b[0m\u001b[1;33m)\u001b[0m\u001b[1;33m\u001b[0m\u001b[1;33m\u001b[0m\u001b[0m\n\u001b[0m\u001b[0;32m     67\u001b[0m         \u001b[0mgradient_in_pauli_basis\u001b[0m \u001b[1;33m=\u001b[0m \u001b[0mPauliExpectation\u001b[0m\u001b[1;33m(\u001b[0m\u001b[1;33m)\u001b[0m\u001b[1;33m.\u001b[0m\u001b[0mconvert\u001b[0m\u001b[1;33m(\u001b[0m\u001b[0mgrad\u001b[0m\u001b[1;33m)\u001b[0m\u001b[1;33m\u001b[0m\u001b[1;33m\u001b[0m\u001b[0m\n\u001b[0;32m     68\u001b[0m         \u001b[0mvalue_dict\u001b[0m \u001b[1;33m=\u001b[0m \u001b[0mdict\u001b[0m\u001b[1;33m(\u001b[0m\u001b[0mzip\u001b[0m\u001b[1;33m(\u001b[0m\u001b[0mself\u001b[0m\u001b[1;33m.\u001b[0m\u001b[0mtheta\u001b[0m\u001b[1;33m,\u001b[0m \u001b[0mthetas\u001b[0m\u001b[1;33m)\u001b[0m\u001b[1;33m)\u001b[0m\u001b[1;33m\u001b[0m\u001b[1;33m\u001b[0m\u001b[0m\n",
      "\u001b[1;32m~\\anaconda3\\lib\\site-packages\\qiskit\\opflow\\gradients\\gradient.py\u001b[0m in \u001b[0;36mconvert\u001b[1;34m(self, operator, params)\u001b[0m\n\u001b[0;32m     64\u001b[0m         \"\"\"\n\u001b[0;32m     65\u001b[0m         \u001b[1;32mif\u001b[0m \u001b[0mlen\u001b[0m\u001b[1;33m(\u001b[0m\u001b[0moperator\u001b[0m\u001b[1;33m.\u001b[0m\u001b[0mparameters\u001b[0m\u001b[1;33m)\u001b[0m \u001b[1;33m==\u001b[0m \u001b[1;36m0\u001b[0m\u001b[1;33m:\u001b[0m\u001b[1;33m\u001b[0m\u001b[1;33m\u001b[0m\u001b[0m\n\u001b[1;32m---> 66\u001b[1;33m             \u001b[1;32mraise\u001b[0m \u001b[0mValueError\u001b[0m\u001b[1;33m(\u001b[0m\u001b[1;34m\"The operator we are taking the gradient of is not parameterized!\"\u001b[0m\u001b[1;33m)\u001b[0m\u001b[1;33m\u001b[0m\u001b[1;33m\u001b[0m\u001b[0m\n\u001b[0m\u001b[0;32m     67\u001b[0m         \u001b[1;32mif\u001b[0m \u001b[0mparams\u001b[0m \u001b[1;32mis\u001b[0m \u001b[1;32mNone\u001b[0m\u001b[1;33m:\u001b[0m\u001b[1;33m\u001b[0m\u001b[1;33m\u001b[0m\u001b[0m\n\u001b[0;32m     68\u001b[0m             \u001b[0mparams\u001b[0m \u001b[1;33m=\u001b[0m \u001b[0msorted\u001b[0m\u001b[1;33m(\u001b[0m\u001b[0moperator\u001b[0m\u001b[1;33m.\u001b[0m\u001b[0mparameters\u001b[0m\u001b[1;33m,\u001b[0m \u001b[0mkey\u001b[0m\u001b[1;33m=\u001b[0m\u001b[0mfunctools\u001b[0m\u001b[1;33m.\u001b[0m\u001b[0mcmp_to_key\u001b[0m\u001b[1;33m(\u001b[0m\u001b[0m_compare_parameters\u001b[0m\u001b[1;33m)\u001b[0m\u001b[1;33m)\u001b[0m\u001b[1;33m\u001b[0m\u001b[1;33m\u001b[0m\u001b[0m\n",
      "\u001b[1;31mValueError\u001b[0m: The operator we are taking the gradient of is not parameterized!"
     ]
    }
   ],
   "source": [
    "model = Net()\n",
    "\n",
    "optimizer = optim.Adam(model.parameters())\n",
    "loss_func = nn.BCELoss()\n",
    "epochs = 20\n",
    "loss_list = []\n",
    "\n",
    "model.train()\n",
    "for epoch in range(epochs):\n",
    "    total_loss = []\n",
    "    for batch_idx, (data, target) in enumerate(zip(x_train, y_train)):\n",
    "        optimizer.zero_grad()\n",
    "        # Forward pass\n",
    "        output = model(data)\n",
    "        # Calculating loss\n",
    "        loss = loss_func(output[0], target[0])\n",
    "        # Backward pass\n",
    "        loss.backward()\n",
    "        # Optimize the weights\n",
    "        optimizer.step()\n",
    "\n",
    "        total_loss.append(loss.item())\n",
    "    loss_list.append(sum(total_loss)/len(total_loss))\n",
    "    print('Training [{:.0f}%]\\tLoss: {:.4f}'.format(\n",
    "        100. * (epoch + 1) / epochs, loss_list[-1]))"
   ]
  },
  {
   "cell_type": "code",
   "execution_count": 114,
   "id": "beefbd50",
   "metadata": {},
   "outputs": [
    {
     "data": {
      "text/plain": [
       "Text(0, 0.5, 'Cross Entropy Loss')"
      ]
     },
     "execution_count": 114,
     "metadata": {},
     "output_type": "execute_result"
    },
    {
     "data": {
      "image/png": "[encoded data removed]",
      "text/plain": [
       "<Figure size 432x288 with 1 Axes>"
      ]
     },
     "metadata": {
      "needs_background": "light"
     },
     "output_type": "display_data"
    }
   ],
   "source": [
    "plt.plot(loss_list)\n",
    "plt.title('Hybrid NN Training Convergence')\n",
    "plt.xlabel('Training Iterations')\n",
    "plt.ylabel('Cross Entropy Loss')"
   ]
  },
  {
   "cell_type": "code",
   "execution_count": 115,
   "id": "e999e7c8",
   "metadata": {},
   "outputs": [
    {
     "name": "stdout",
     "output_type": "stream",
     "text": [
      "tensor([0.2862, 0.7138], dtype=torch.float64)\n",
      "tensor([0.7233, 0.2767], dtype=torch.float64)\n",
      "tensor([0.7280, 0.2720], dtype=torch.float64)\n",
      "tensor([0.2713, 0.7287], dtype=torch.float64)\n",
      "tensor([0.7295, 0.2705], dtype=torch.float64)\n",
      "tensor([0.2689, 0.7311], dtype=torch.float64)\n",
      "tensor([0.2759, 0.7241], dtype=torch.float64)\n",
      "tensor([0.7280, 0.2720], dtype=torch.float64)\n",
      "tensor([0.7241, 0.2759], dtype=torch.float64)\n",
      "tensor([0.2689, 0.7311], dtype=torch.float64)\n",
      "tensor([0.3208, 0.6792], dtype=torch.float64)\n",
      "tensor([0.7287, 0.2713], dtype=torch.float64)\n",
      "tensor([0.7280, 0.2720], dtype=torch.float64)\n",
      "tensor([0.7264, 0.2736], dtype=torch.float64)\n",
      "tensor([0.2751, 0.7249], dtype=torch.float64)\n",
      "tensor([0.2689, 0.7311], dtype=torch.float64)\n",
      "tensor([0.7241, 0.2759], dtype=torch.float64)\n",
      "tensor([0.2736, 0.7264], dtype=torch.float64)\n",
      "tensor([0.7264, 0.2736], dtype=torch.float64)\n",
      "tensor([0.7295, 0.2705], dtype=torch.float64)\n",
      "[1, 0, 0, 1, 0, 1, 1, 0, 0, 1, 1, 0, 0, 0, 1, 1, 0, 1, 0, 0]\n"
     ]
    }
   ],
   "source": [
    "preds = []\n",
    "with torch.no_grad():\n",
    "    for val in x_test:\n",
    "        y_hat = model.forward(val)\n",
    "        print(y_hat)\n",
    "        preds.append(y_hat.argmax().item())\n",
    "print(preds)"
   ]
  },
  {
   "cell_type": "code",
   "execution_count": 116,
   "id": "5c4a559c",
   "metadata": {},
   "outputs": [
    {
     "name": "stdout",
     "output_type": "stream",
     "text": [
      "0.0\n",
      "[1, 0, 0, 1, 0, 1, 1, 0, 0, 1, 1, 0, 0, 0, 1, 1, 0, 1, 0, 0]\n",
      "[0, 1, 1, 0, 1, 0, 0, 1, 1, 0, 0, 1, 1, 1, 0, 0, 1, 0, 1, 1]\n"
     ]
    }
   ],
   "source": [
    "print(np.sum([1.0 if preds[i] == y_test[i].int() else 0 for i in range(len(y_test))]) / len(y_test))\n",
    "print(preds)\n",
    "print(y_test.int().tolist())"
   ]
  },
  {
   "cell_type": "code",
   "execution_count": 20,
   "id": "294f12eb",
   "metadata": {},
   "outputs": [],
   "source": [
    "from circuitsCopy1 import randomLayer"
   ]
  },
  {
   "cell_type": "code",
   "execution_count": 21,
   "id": "e3c6a69a",
   "metadata": {},
   "outputs": [
    {
     "ename": "NameError",
     "evalue": "name 'ParameterVector' is not defined",
     "output_type": "error",
     "traceback": [
      "\u001b[1;31m---------------------------------------------------------------------------\u001b[0m",
      "\u001b[1;31mNameError\u001b[0m                                 Traceback (most recent call last)",
      "\u001b[1;32m~\\AppData\\Local\\Temp/ipykernel_15628/1098562779.py\u001b[0m in \u001b[0;36m<module>\u001b[1;34m\u001b[0m\n\u001b[1;32m----> 1\u001b[1;33m \u001b[0mqc\u001b[0m \u001b[1;33m=\u001b[0m \u001b[0mrandomLayer\u001b[0m\u001b[1;33m(\u001b[0m\u001b[1;36m1\u001b[0m\u001b[1;33m)\u001b[0m\u001b[1;33m\u001b[0m\u001b[1;33m\u001b[0m\u001b[0m\n\u001b[0m",
      "\u001b[1;32m~\\OneDrive - Queen's University\\Queens ENg Tristan Austin\\Third Year\\QMIND\\QMIND-VQC\\src\\RandomCircuit\\circuitsCopy1.py\u001b[0m in \u001b[0;36mrandomLayer\u001b[1;34m(numQbits, gates, entanglement, reps, to_gate)\u001b[0m\n\u001b[0;32m     62\u001b[0m     \u001b[0mqc\u001b[0m \u001b[1;33m=\u001b[0m \u001b[0mQuantumCircuit\u001b[0m\u001b[1;33m(\u001b[0m\u001b[0mnumQbits\u001b[0m\u001b[1;33m)\u001b[0m\u001b[1;33m\u001b[0m\u001b[1;33m\u001b[0m\u001b[0m\n\u001b[0;32m     63\u001b[0m     \u001b[0minsert_barrier\u001b[0m \u001b[1;33m=\u001b[0m \u001b[1;32mFalse\u001b[0m \u001b[1;32mif\u001b[0m \u001b[0mto_gate\u001b[0m \u001b[1;32melse\u001b[0m \u001b[1;32mTrue\u001b[0m\u001b[1;33m\u001b[0m\u001b[1;33m\u001b[0m\u001b[0m\n\u001b[1;32m---> 64\u001b[1;33m     qc.compose(quanvolutionESU2(numQbits, gates=gates, entanglement=entanglement, reps=reps, \n\u001b[0m\u001b[0;32m     65\u001b[0m                                 insert_barrier=insert_barrier), inplace=True)\n\u001b[0;32m     66\u001b[0m     \u001b[1;32mreturn\u001b[0m \u001b[0mqc\u001b[0m\u001b[1;33m.\u001b[0m\u001b[0mto_gate\u001b[0m\u001b[1;33m(\u001b[0m\u001b[0mlabel\u001b[0m\u001b[1;33m=\u001b[0m\u001b[1;34m\"Random Layer\"\u001b[0m\u001b[1;33m)\u001b[0m \u001b[1;32mif\u001b[0m \u001b[0mto_gate\u001b[0m \u001b[1;32melse\u001b[0m \u001b[0mqc\u001b[0m\u001b[1;33m\u001b[0m\u001b[1;33m\u001b[0m\u001b[0m\n",
      "\u001b[1;32m~\\OneDrive - Queen's University\\Queens ENg Tristan Austin\\Third Year\\QMIND\\QMIND-VQC\\src\\RandomCircuit\\circuitsCopy1.py\u001b[0m in \u001b[0;36mquanvolutionESU2\u001b[1;34m(N_dims, gates, reps, entanglement, insert_barrier)\u001b[0m\n\u001b[0;32m     39\u001b[0m     \u001b[1;31m# Calculate the number of parameters we will need\u001b[0m\u001b[1;33m\u001b[0m\u001b[1;33m\u001b[0m\u001b[1;33m\u001b[0m\u001b[0m\n\u001b[0;32m     40\u001b[0m     \u001b[0mnum_params\u001b[0m \u001b[1;33m=\u001b[0m \u001b[1;36m2\u001b[0m\u001b[1;33m*\u001b[0m\u001b[0mlen\u001b[0m\u001b[1;33m(\u001b[0m\u001b[0mgates\u001b[0m\u001b[1;33m)\u001b[0m\u001b[1;33m*\u001b[0m\u001b[0mN_dims\u001b[0m\u001b[1;33m*\u001b[0m\u001b[0mreps\u001b[0m\u001b[1;33m\u001b[0m\u001b[1;33m\u001b[0m\u001b[0m\n\u001b[1;32m---> 41\u001b[1;33m     \u001b[0mparameters\u001b[0m \u001b[1;33m=\u001b[0m \u001b[0mParameterVector\u001b[0m\u001b[1;33m(\u001b[0m\u001b[1;34m'theta'\u001b[0m\u001b[1;33m,\u001b[0m \u001b[0mnum_params\u001b[0m\u001b[1;33m)\u001b[0m\u001b[1;33m\u001b[0m\u001b[1;33m\u001b[0m\u001b[0m\n\u001b[0m\u001b[0;32m     42\u001b[0m     \u001b[0mqc\u001b[0m \u001b[1;33m=\u001b[0m \u001b[0mQuantumCircuit\u001b[0m\u001b[1;33m(\u001b[0m\u001b[0mN_dims\u001b[0m\u001b[1;33m,\u001b[0m \u001b[0mname\u001b[0m\u001b[1;33m=\u001b[0m\u001b[1;34m\"EfficientSU2\"\u001b[0m\u001b[1;33m)\u001b[0m\u001b[1;33m\u001b[0m\u001b[1;33m\u001b[0m\u001b[0m\n\u001b[0;32m     43\u001b[0m     \u001b[0mstart\u001b[0m \u001b[1;33m=\u001b[0m \u001b[1;36m0\u001b[0m\u001b[1;33m\u001b[0m\u001b[1;33m\u001b[0m\u001b[0m\n",
      "\u001b[1;31mNameError\u001b[0m: name 'ParameterVector' is not defined"
     ]
    }
   ],
   "source": [
    "qc = randomLayer(1)"
   ]
  },
  {
   "cell_type": "code",
   "execution_count": null,
   "id": "833e9677",
   "metadata": {},
   "outputs": [],
   "source": []
  }
 ],
 "metadata": {
  "kernelspec": {
   "display_name": "Python 3 (ipykernel)",
   "language": "python",
   "name": "python3"
  },
  "language_info": {
   "codemirror_mode": {
    "name": "ipython",
    "version": 3
   },
   "file_extension": ".py",
   "mimetype": "text/x-python",
   "name": "python",
   "nbconvert_exporter": "python",
   "pygments_lexer": "ipython3",
   "version": "3.8.12"
  }
 },
 "nbformat": 4,
 "nbformat_minor": 5
}
