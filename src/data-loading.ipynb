{
 "cells": [
  {
   "cell_type": "code",
   "execution_count": 1,
   "metadata": {},
   "outputs": [],
   "source": [
    "import numpy as np\n",
    "from sklearn import datasets\n",
    "from sklearn.model_selection import train_test_split\n",
    "from sklearn.preprocessing import StandardScaler, MinMaxScaler"
   ]
  },
  {
   "cell_type": "code",
   "execution_count": 2,
   "metadata": {},
   "outputs": [],
   "source": [
    "random_seed = 123"
   ]
  },
  {
   "cell_type": "code",
   "execution_count": 3,
   "metadata": {},
   "outputs": [],
   "source": [
    "def load_iris_data():\n",
    "    x, y = datasets.load_iris(return_X_y=True)\n",
    "\n",
    "    # Reduce problem to binary classification\n",
    "    is_class_2 = (y == 2) \n",
    "    x = x[~is_class_2]\n",
    "    y = y[~is_class_2]\n",
    "    y = y * 2 - 1  # map form {0, 1} to Z expectation values of {-1,+1}\n",
    "\n",
    "    x_train, x_test, y_train, y_test = train_test_split(\n",
    "        x, y, test_size=0.2, shuffle=True, random_state=random_seed\n",
    "    )\n",
    "\n",
    "    # Standardize data (i.e. mean of 0 with unit variance)\n",
    "    std_scale = StandardScaler().fit(x_train)\n",
    "    x_train = std_scale.transform(x_train)\n",
    "    x_test = std_scale.transform(x_test)\n",
    "\n",
    "    # Scale to between -1 and 1\n",
    "    X_std = np.append(x_train, x_test, axis=0)\n",
    "    minmax_scale = MinMaxScaler((-1, 1)).fit(X_std)\n",
    "    x_train = minmax_scale.transform(x_train)\n",
    "    x_test = minmax_scale.transform(x_test)\n",
    "    return x_train, x_test, y_train, y_test"
   ]
  },
  {
   "cell_type": "code",
   "execution_count": 6,
   "metadata": {},
   "outputs": [
    {
     "name": "stdout",
     "output_type": "stream",
     "text": [
      "Training data shape: (80, 4)\n",
      "Testing data shape: (20, 4)\n"
     ]
    }
   ],
   "source": [
    "x_train, x_test, y_train, y_test = load_iris_data()\n",
    "\n",
    "print(f'Training data shape: {x_train.shape}')\n",
    "print(f'Testing data shape: {x_test.shape}')"
   ]
  },
  {
   "cell_type": "code",
   "execution_count": null,
   "metadata": {},
   "outputs": [],
   "source": []
  }
 ],
 "metadata": {
  "kernelspec": {
   "display_name": "Python 3",
   "language": "python",
   "name": "python3"
  },
  "language_info": {
   "codemirror_mode": {
    "name": "ipython",
    "version": 3
   },
   "file_extension": ".py",
   "mimetype": "text/x-python",
   "name": "python",
   "nbconvert_exporter": "python",
   "pygments_lexer": "ipython3",
   "version": "3.8.5"
  }
 },
 "nbformat": 4,
 "nbformat_minor": 2
}
