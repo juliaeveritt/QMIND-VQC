{
 "cells": [
  {
   "cell_type": "code",
   "execution_count": 47,
   "id": "266b0646",
   "metadata": {},
   "outputs": [],
   "source": [
    "from qiskit.circuit import QuantumCircuit, Parameter, ParameterVector, Gate\n",
    "from typing import Union\n",
    "from qiskit import assemble\n",
    "from qiskit.circuit.library import TwoLocal\n"
   ]
  },
  {
   "cell_type": "code",
   "execution_count": 48,
   "id": "db9b4a23",
   "metadata": {},
   "outputs": [],
   "source": [
    "# We will implement the efficientSU2 ansatz\n",
    "def quanvolutionESU2(N_dims, gates=['rx', 'rz'], reps=1, entanglement='circular'):\n",
    "    \n",
    "    # Function to apply rotation gates to all of our qubits\n",
    "    def rotation(gate, start):\n",
    "        qc = QuantumCircuit(N_dims, name=gate)\n",
    "        for i in range(N_dims):\n",
    "            if gate == 'rx':\n",
    "                qc.rx(parameters[start+i], i)\n",
    "            if gate == 'ry':\n",
    "                qc.ry(parameters[start+i], i)\n",
    "            if gate == 'rz':\n",
    "                qc.rz(parameters[start+i], i)\n",
    "        return qc\n",
    "    \n",
    "    # Function apply the entanglement\n",
    "    def entanglement(type=entanglement):\n",
    "        qc = QuantumCircuit(N_dims, name=type)\n",
    "        if (type == \"circular\"):\n",
    "            qc.cx(N_dims-1, 0)\n",
    "            for i in range(N_dims-1):\n",
    "                target = i + 1\n",
    "                qc.cx(i, target)\n",
    "        if (type == \"linear\"):\n",
    "            for i in range(N_dims - 1):\n",
    "                target = i + 1\n",
    "                qc.cx(i, target)\n",
    "        if (type == \"full\"):\n",
    "            for i in range(N_dims):\n",
    "                for j in range(N_dims):\n",
    "                    if (i != j):\n",
    "                        qc.cx(i, j)\n",
    "        return qc\n",
    "    \n",
    "    # Calculate the number of parameters we will need\n",
    "    num_params = 2*len(gates)*N_dims*reps\n",
    "    parameters = ParameterVector('θ', num_params)\n",
    "    qc = QuantumCircuit(N_dims, name=\"EfficientSU2\")\n",
    "    start = 0\n",
    "    \n",
    "    for i in range(reps):\n",
    "        for gate in gates:\n",
    "            qc.compose(rotation(gate, start), range(N_dims), inplace=True)\n",
    "            start += N_dims\n",
    "\n",
    "        qc.compose(entanglement(), range(N_dims), inplace=True)\n",
    "        \n",
    "        for gate in gates:\n",
    "            qc.compose(rotation(gate, start), range(N_dims), inplace=True)\n",
    "            start += N_dims\n",
    "    \n",
    "    return qc"
   ]
  },
  {
   "cell_type": "code",
   "execution_count": 49,
   "id": "82beb8a8",
   "metadata": {},
   "outputs": [
    {
     "data": {
      "image/png": "[encoded data removed]",
      "text/plain": [
       "<Figure size 628.397x264.88 with 1 Axes>"
      ]
     },
     "execution_count": 49,
     "metadata": {},
     "output_type": "execute_result"
    }
   ],
   "source": [
    "def randomLayer(numQbits, gates=['rx', 'rz'], entanglement='linear', reps=1, to_gate=True) -> Union[Gate, QuantumCircuit]:\n",
    "    qc = QuantumCircuit(numQbits)\n",
    "    qc.compose(efficientSU2(numQbits, gates=gates, entanglement=entanglement, reps=reps), inplace=True)\n",
    "    return qc.to_gate(label=\"Random Layer\") if to_gate else qc\n",
    "\n",
    "n = 3\n",
    "qc = QuantumCircuit(n,n)\n",
    "qc.compose(randomLayer(n, reps=2), inplace=True)\n",
    "qc.draw('mpl')"
   ]
  },
  {
   "cell_type": "code",
   "execution_count": null,
   "id": "9e0a5ffa",
   "metadata": {},
   "outputs": [],
   "source": []
  }
 ],
 "metadata": {
  "kernelspec": {
   "display_name": "qiskitEnv",
   "language": "python",
   "name": "qiskitenv"
  },
  "language_info": {
   "codemirror_mode": {
    "name": "ipython",
    "version": 3
   },
   "file_extension": ".py",
   "mimetype": "text/x-python",
   "name": "python",
   "nbconvert_exporter": "python",
   "pygments_lexer": "ipython3",
   "version": "3.9.6"
  }
 },
 "nbformat": 4,
 "nbformat_minor": 5
}
