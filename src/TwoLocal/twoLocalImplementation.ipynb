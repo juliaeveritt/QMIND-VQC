{
 "cells": [
  {
   "cell_type": "code",
   "execution_count": 1,
   "metadata": {},
   "outputs": [],
   "source": [
    "from qiskit.circuit.library import TwoLocal\n",
    "from qiskit.circuit import Parameter, ParameterVector\n",
    "from matplotlib import pyplot as plt\n",
    "from qiskit import QuantumCircuit, Aer\n",
    "from qiskit.quantum_info import Statevector\n",
    "from qiskit.visualization import plot_bloch_multivector\n",
    "import numpy as np"
   ]
  },
  {
   "cell_type": "markdown",
   "metadata": {},
   "source": [
    "A two-local curcuit is a paramaterized circuit consisting of alternating rotation and entanglement layers"
   ]
  },
  {
   "cell_type": "markdown",
   "metadata": {},
   "source": [
    "### Example 1: Basic Implementation ###"
   ]
  },
  {
   "cell_type": "code",
   "execution_count": 2,
   "metadata": {},
   "outputs": [
    {
     "name": "stdout",
     "output_type": "stream",
     "text": [
      "     ┌──────────┐ ░            ░ ┌──────────┐ ░            ░ ┌──────────┐\n",
      "q_0: ┤ Rx(θ[0]) ├─░───■────────░─┤ Rx(θ[3]) ├─░───■────────░─┤ Rx(θ[6]) ├\n",
      "     ├──────────┤ ░ ┌─┴─┐      ░ ├──────────┤ ░ ┌─┴─┐      ░ ├──────────┤\n",
      "q_1: ┤ Rx(θ[1]) ├─░─┤ X ├──■───░─┤ Rx(θ[4]) ├─░─┤ X ├──■───░─┤ Rx(θ[7]) ├\n",
      "     ├──────────┤ ░ └───┘┌─┴─┐ ░ ├──────────┤ ░ └───┘┌─┴─┐ ░ ├──────────┤\n",
      "q_2: ┤ Rx(θ[2]) ├─░──────┤ X ├─░─┤ Rx(θ[5]) ├─░──────┤ X ├─░─┤ Rx(θ[8]) ├\n",
      "     └──────────┘ ░      └───┘ ░ └──────────┘ ░      └───┘ ░ └──────────┘\n"
     ]
    }
   ],
   "source": [
    "# qc = QuantumCircuit(3)\n",
    "ex1 = TwoLocal(3, 'rx', 'cx', 'linear', reps=2, insert_barriers=True)\n",
    "# qc += ex1\n",
    "print(ex1.decompose().draw())  # decompose the layers into standard gates"
   ]
  },
  {
   "cell_type": "markdown",
   "metadata": {},
   "source": [
    "### Example 1, My Implementation ###"
   ]
  },
  {
   "cell_type": "code",
   "execution_count": 3,
   "metadata": {},
   "outputs": [
    {
     "name": "stdout",
     "output_type": "stream",
     "text": [
      "     ┌──────────┐ ░            ░ ┌──────────┐ ░            ░ ┌──────────┐\n",
      "q_0: ┤ Ry(θ[0]) ├─░───■────────░─┤ Ry(θ[3]) ├─░───■────────░─┤ Ry(θ[6]) ├\n",
      "     ├──────────┤ ░ ┌─┴─┐      ░ ├──────────┤ ░ ┌─┴─┐      ░ ├──────────┤\n",
      "q_1: ┤ Ry(θ[1]) ├─░─┤ X ├──■───░─┤ Ry(θ[4]) ├─░─┤ X ├──■───░─┤ Ry(θ[7]) ├\n",
      "     ├──────────┤ ░ └───┘┌─┴─┐ ░ ├──────────┤ ░ └───┘┌─┴─┐ ░ ├──────────┤\n",
      "q_2: ┤ Ry(θ[2]) ├─░──────┤ X ├─░─┤ Ry(θ[5]) ├─░──────┤ X ├─░─┤ Ry(θ[8]) ├\n",
      "     └──────────┘ ░      └───┘ ░ └──────────┘ ░      └───┘ ░ └──────────┘\n"
     ]
    }
   ],
   "source": [
    "def myTwoLocal(numQ, numLayers, entanglement):\n",
    "    qc = QuantumCircuit(numQ)\n",
    "    parameters = ParameterVector('θ', numQ*(numLayers+1))\n",
    "    for layer in range(numLayers):\n",
    "        #set up gates\n",
    "        for i in range(numQ):\n",
    "            qc.ry(parameters[numQ*layer+i], i)\n",
    "        \n",
    "        #add a barrier, just for show\n",
    "        qc.barrier() \n",
    "\n",
    "        # entangle the qubits\n",
    "        if entanglement == \"linear\":\n",
    "            for i in range(numQ-1):\n",
    "                qc.cx(i,i+1)\n",
    "        elif entanglement == \"full\":\n",
    "            for i in range(numQ):\n",
    "                for j in range(i):\n",
    "                    qc.cx(j,i)\n",
    "        elif entanglement == \"circular\":\n",
    "            for i in range(numQ-1):\n",
    "                qc.cx(i,i+1)\n",
    "\n",
    "\n",
    "        \n",
    "        qc.barrier()\n",
    "\n",
    "    for i in range(numQ):\n",
    "        qc.ry(parameters[numQ*numLayers+i], i)\n",
    "    \n",
    "    \n",
    "    print(qc.draw())\n",
    "\n",
    "myTwoLocal(3,2, \"linear\")\n",
    "\n",
    "# def myTwoLocal(numQ, numReps):\n",
    "#     qc = QuantumCircuit(numQ)\n",
    "#     parameter_0 = Parameter('θ[0]')\n",
    "#     parameter_1 = Parameter('θ[1]')\n",
    "#     parameter_1 = Parameter('θ[2]')\n",
    "#     # parameters = ParameterVector('θ', numQ*(numReps+1))\n",
    "#     # first apply hadamard gates\n",
    "#     # for i in range(numQ):\n",
    "#     #     qc.h(i)\n",
    "#     # then do funky parameter rotation thing\n",
    "#     for i in range (numQ):\n",
    "#         qc.rz(theta = parameter_0, qubit = i)\n",
    "    \n",
    "#     print(qc.draw())\n"
   ]
  },
  {
   "cell_type": "markdown",
   "metadata": {},
   "source": [
    "### Example 2: Multiple Rotations ###"
   ]
  },
  {
   "cell_type": "code",
   "execution_count": 5,
   "metadata": {},
   "outputs": [
    {
     "name": "stdout",
     "output_type": "stream",
     "text": [
      "     ┌──────────┐┌──────────┐ ░           ░ ┌──────────┐ ┌──────────┐\n",
      "q_0: ┤ Ry(θ[0]) ├┤ Rz(θ[3]) ├─░──■──■─────░─┤ Ry(θ[6]) ├─┤ Rz(θ[9]) ├\n",
      "     ├──────────┤├──────────┤ ░  │  │     ░ ├──────────┤┌┴──────────┤\n",
      "q_1: ┤ Ry(θ[1]) ├┤ Rz(θ[4]) ├─░──■──┼──■──░─┤ Ry(θ[7]) ├┤ Rz(θ[10]) ├\n",
      "     ├──────────┤├──────────┤ ░     │  │  ░ ├──────────┤├───────────┤\n",
      "q_2: ┤ Ry(θ[2]) ├┤ Rz(θ[5]) ├─░─────■──■──░─┤ Ry(θ[8]) ├┤ Rz(θ[11]) ├\n",
      "     └──────────┘└──────────┘ ░           ░ └──────────┘└───────────┘\n"
     ]
    }
   ],
   "source": [
    "ex2 = TwoLocal(3, ['ry','rz'], 'cz', 'full', reps=1, insert_barriers=True)\n",
    "print(ex2.decompose().draw())"
   ]
  },
  {
   "cell_type": "markdown",
   "metadata": {},
   "source": [
    "### Example 3: Circular entanglement two ways ###"
   ]
  },
  {
   "cell_type": "code",
   "execution_count": 6,
   "metadata": {},
   "outputs": [
    {
     "name": "stdout",
     "output_type": "stream",
     "text": [
      "     ┌───┐┌──────────┐               ┌───┐         \n",
      "q_0: ┤ X ├┤ Rx(θ[0]) ├─────■─────────┤ X ├─────────\n",
      "     ├───┤└────┬─────┘┌────┴─────┐   └───┘    ┌───┐\n",
      "q_1: ┤ X ├─────┼──────┤ Rx(θ[1]) ├─────■──────┤ X ├\n",
      "     ├───┤     │      └──────────┘┌────┴─────┐├───┤\n",
      "q_2: ┤ X ├─────■──────────────────┤ Rx(θ[2]) ├┤ X ├\n",
      "     └───┘                        └──────────┘└───┘\n",
      "     ┌───┐                             ┌──────────┐┌───┐\n",
      "q_0: ┤ X ├─────■───────────────────────┤ Rx(θ[2]) ├┤ X ├\n",
      "     ├───┤┌────┴─────┐            ┌───┐└────┬─────┘└───┘\n",
      "q_1: ┤ X ├┤ Rx(θ[0]) ├─────■──────┤ X ├─────┼───────────\n",
      "     ├───┤└──────────┘┌────┴─────┐└───┘     │      ┌───┐\n",
      "q_2: ┤ X ├────────────┤ Rx(θ[1]) ├──────────■──────┤ X ├\n",
      "     └───┘            └──────────┘                 └───┘\n"
     ]
    }
   ],
   "source": [
    "# 1 - default\n",
    "ex3_1 = TwoLocal(3, 'x', 'crx', 'circular', reps=1)\n",
    "print(ex3_1.decompose().draw())\n",
    "\n",
    "# 2 - using index pairs\n",
    "entangler_map = [[0, 1], [1, 2], [2, 0]] \n",
    "ex3_2 = TwoLocal(3, 'x', 'crx', entangler_map, reps=1)\n",
    "print(ex3_2.decompose().draw())"
   ]
  },
  {
   "cell_type": "markdown",
   "metadata": {},
   "source": [
    "### Example 4: Adding the Same TwoLocal Circuit To Itself ###"
   ]
  },
  {
   "cell_type": "code",
   "execution_count": 7,
   "metadata": {},
   "outputs": [
    {
     "name": "stdout",
     "output_type": "stream",
     "text": [
      "                              ░ \n",
      "q_0: ─────■───────────────────░─\n",
      "     ┌────┴─────┐             ░ \n",
      "q_1: ┤ Ry(θ[0]) ├─────■───────░─\n",
      "     └──────────┘┌────┴─────┐ ░ \n",
      "q_2: ────────────┤ Ry(θ[1]) ├─░─\n",
      "                 └──────────┘ ░ \n",
      "                              ░                          ░ \n",
      "q_0: ─────■───────────────────░──────■───────────────────░─\n",
      "     ┌────┴─────┐             ░ ┌────┴─────┐             ░ \n",
      "q_1: ┤ Ry(θ[0]) ├─────■───────░─┤ Ry(θ[0]) ├─────■───────░─\n",
      "     └──────────┘┌────┴─────┐ ░ └──────────┘┌────┴─────┐ ░ \n",
      "q_2: ────────────┤ Ry(θ[1]) ├─░─────────────┤ Ry(θ[1]) ├─░─\n",
      "                 └──────────┘ ░             └──────────┘ ░ \n"
     ]
    },
    {
     "name": "stderr",
     "output_type": "stream",
     "text": [
      "/tmp/ipykernel_264/1406007975.py:3: DeprecationWarning: The QuantumCircuit.__add__() method is being deprecated.Use the compose() method which is more flexible w.r.t circuit register compatibility.\n",
      "  circuit = ex4_1 + ex4_1\n"
     ]
    }
   ],
   "source": [
    "ex4_1 = TwoLocal(3,[], 'cry', 'linear', reps=1, insert_barriers=True)\n",
    "print(ex4_1.decompose().draw())\n",
    "circuit = ex4_1 + ex4_1\n",
    "print(circuit.decompose().draw()) \n",
    "# parameters (θ[0], θ[1], θ[2]) are the same"
   ]
  },
  {
   "cell_type": "markdown",
   "metadata": {},
   "source": [
    "### Example 5: Customizing Entanglement of Layers ###"
   ]
  },
  {
   "cell_type": "code",
   "execution_count": 8,
   "metadata": {},
   "outputs": [
    {
     "name": "stdout",
     "output_type": "stream",
     "text": [
      "                              ░ \n",
      "q_0: ─────■───────────────────░─\n",
      "     ┌────┴─────┐             ░ \n",
      "q_1: ┤ Ry(θ[0]) ├─────■───────░─\n",
      "     └──────────┘┌────┴─────┐ ░ \n",
      "q_2: ────────────┤ Ry(θ[1]) ├─░─\n",
      "                 └──────────┘ ░ \n",
      "                              ░ \n",
      "q_0: ─────■───────────────────░─\n",
      "     ┌────┴─────┐             ░ \n",
      "q_1: ┤ Ry(θ[0]) ├─────■───────░─\n",
      "     └──────────┘┌────┴─────┐ ░ \n",
      "q_2: ────────────┤ Ry(θ[1]) ├─░─\n",
      "                 └──────────┘ ░ \n",
      "     ┌───┐ ░                          ░ ┌───┐ ░              ░ ┌───┐ ░ »\n",
      "q_0: ┤ X ├─░──────■───────────■───────░─┤ X ├─░──────────────░─┤ X ├─░─»\n",
      "     ├───┤ ░ ┌────┴─────┐     │       ░ ├───┤ ░              ░ ├───┤ ░ »\n",
      "q_1: ┤ X ├─░─┤ Ry(θ[0]) ├─────┼───────░─┤ X ├─░──────■───────░─┤ X ├─░─»\n",
      "     ├───┤ ░ └──────────┘┌────┴─────┐ ░ ├───┤ ░ ┌────┴─────┐ ░ ├───┤ ░ »\n",
      "q_2: ┤ X ├─░─────────────┤ Ry(θ[1]) ├─░─┤ X ├─░─┤ Ry(θ[2]) ├─░─┤ X ├─░─»\n",
      "     └───┘ ░             └──────────┘ ░ └───┘ ░ └──────────┘ ░ └───┘ ░ »\n",
      "«                             ┌──────────┐ ░ ┌───┐\n",
      "«q_0: ─────■──────────────────┤ Ry(θ[5]) ├─░─┤ X ├\n",
      "«     ┌────┴─────┐            └────┬─────┘ ░ ├───┤\n",
      "«q_1: ┤ Ry(θ[3]) ├─────■───────────┼───────░─┤ X ├\n",
      "«     └──────────┘┌────┴─────┐     │       ░ ├───┤\n",
      "«q_2: ────────────┤ Ry(θ[4]) ├─────■───────░─┤ X ├\n",
      "«                 └──────────┘             ░ └───┘\n"
     ]
    }
   ],
   "source": [
    "error1 = TwoLocal(3,[], 'cry', 'linear', reps=1, insert_barriers=True)\n",
    "error2 = TwoLocal(3,[], 'cry', 'linear', reps=1, insert_barriers=True)\n",
    "print(error1.decompose().draw())\n",
    "print(error2.decompose().draw())\n",
    "# circuit = error1 + error2 \n",
    "# above line does not work, due to parameter names being the same within the same overall circuit for differing twolocal circuits\n",
    "# must build in the layers altogether\n",
    "layer_1 = [(0, 1), (0, 2)]\n",
    "layer_2 = [(1, 2)]\n",
    "layer_3 = [(0, 1), (1, 2), (2, 0)]\n",
    "ex5 = TwoLocal(3, 'x', 'cry', [layer_1, layer_2, layer_3], reps=3, insert_barriers=True)\n",
    "print(ex5.decompose().draw())"
   ]
  },
  {
   "cell_type": "markdown",
   "metadata": {},
   "source": [
    "### Adding a TwoLocal Circuit in to a Qiskit QuantumCircuit ###"
   ]
  },
  {
   "cell_type": "code",
   "execution_count": 22,
   "metadata": {},
   "outputs": [
    {
     "name": "stdout",
     "output_type": "stream",
     "text": [
      "     ┌──────────┐ ░           ░ ┌──────────┐\n",
      "q_0: ┤ Ry(θ[0]) ├─░──■──■─────░─┤ Ry(θ[3]) ├\n",
      "     ├──────────┤ ░  │  │     ░ ├──────────┤\n",
      "q_1: ┤ Ry(θ[1]) ├─░──■──┼──■──░─┤ Ry(θ[4]) ├\n",
      "     ├──────────┤ ░     │  │  ░ ├──────────┤\n",
      "q_2: ┤ Ry(θ[2]) ├─░─────■──■──░─┤ Ry(θ[5]) ├\n",
      "     └──────────┘ ░           ░ └──────────┘\n"
     ]
    },
    {
     "name": "stderr",
     "output_type": "stream",
     "text": [
      "C:\\Users\\4ccha\\AppData\\Local\\Programs\\Python\\Python37\\lib\\site-packages\\ipykernel_launcher.py:3: DeprecationWarning: The QuantumCircuit.__iadd__() method is being deprecated. Use the compose() (potentially with the inplace=True argument) and tensor() methods which are more flexible w.r.t circuit register compatibility.\n",
      "  This is separate from the ipykernel package so we can avoid doing imports until\n"
     ]
    }
   ],
   "source": [
    "qc = QuantumCircuit(3)\n",
    "tl1 = TwoLocal(3,'ry', 'cz', 'full', reps=1, insert_barriers=True)\n",
    "qc += tl1\n",
    "print(qc.decompose().draw())"
   ]
  }
 ],
 "metadata": {
  "kernelspec": {
   "display_name": "Python 3",
   "language": "python",
   "name": "python3"
  },
  "language_info": {
   "codemirror_mode": {
    "name": "ipython",
    "version": 3
   },
   "file_extension": ".py",
   "mimetype": "text/x-python",
   "name": "python",
   "nbconvert_exporter": "python",
   "pygments_lexer": "ipython3",
   "version": "3.8.8"
  }
 },
 "nbformat": 4,
 "nbformat_minor": 4
}
