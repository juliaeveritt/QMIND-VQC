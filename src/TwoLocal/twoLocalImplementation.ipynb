{
 "cells": [
  {
   "cell_type": "code",
   "execution_count": 4,
   "metadata": {},
   "outputs": [],
   "source": [
    "from qiskit.circuit import QuantumCircuit\n",
    "from qiskit.circuit.library import TwoLocal\n",
    "from matplotlib import pyplot as plt\n",
    "from qiskit import QuantumCircuit, Aer\n",
    "from qiskit.quantum_info import Statevector\n",
    "from qiskit.visualization import plot_bloch_multivector\n",
    "import numpy as np"
   ]
  },
  {
   "cell_type": "markdown",
   "metadata": {},
   "source": [
    "A two-local curcuit is a paramaterized circuit consisting of alternating rotation and entanglement layers"
   ]
  },
  {
   "cell_type": "markdown",
   "metadata": {},
   "source": [
    "### Example 1: Basic Implementation ###"
   ]
  },
  {
   "cell_type": "code",
   "execution_count": 16,
   "metadata": {},
   "outputs": [
    {
     "name": "stdout",
     "output_type": "stream",
     "text": [
      "     ┌──────────┐ ░            ░ ┌──────────┐ ░            ░ ┌──────────┐\n",
      "q_0: ┤ Ry(θ[0]) ├─░───■────────░─┤ Ry(θ[3]) ├─░───■────────░─┤ Ry(θ[6]) ├\n",
      "     ├──────────┤ ░ ┌─┴─┐      ░ ├──────────┤ ░ ┌─┴─┐      ░ ├──────────┤\n",
      "q_1: ┤ Ry(θ[1]) ├─░─┤ X ├──■───░─┤ Ry(θ[4]) ├─░─┤ X ├──■───░─┤ Ry(θ[7]) ├\n",
      "     ├──────────┤ ░ └───┘┌─┴─┐ ░ ├──────────┤ ░ └───┘┌─┴─┐ ░ ├──────────┤\n",
      "q_2: ┤ Ry(θ[2]) ├─░──────┤ X ├─░─┤ Ry(θ[5]) ├─░──────┤ X ├─░─┤ Ry(θ[8]) ├\n",
      "     └──────────┘ ░      └───┘ ░ └──────────┘ ░      └───┘ ░ └──────────┘\n"
     ]
    }
   ],
   "source": [
    "ex1 = TwoLocal(3, 'ry', 'cx', 'linear', reps=2, insert_barriers=True)\n",
    "print(ex1)  # decompose the layers into standard gates"
   ]
  },
  {
   "cell_type": "markdown",
   "metadata": {},
   "source": [
    "### Example 2: Multiple Rotations ###"
   ]
  },
  {
   "cell_type": "code",
   "execution_count": 28,
   "metadata": {},
   "outputs": [
    {
     "name": "stdout",
     "output_type": "stream",
     "text": [
      "     ┌──────────┐┌──────────┐ ░           ░ ┌──────────┐ ┌──────────┐\n",
      "q_0: ┤ Ry(θ[0]) ├┤ Rz(θ[3]) ├─░──■──■─────░─┤ Ry(θ[6]) ├─┤ Rz(θ[9]) ├\n",
      "     ├──────────┤├──────────┤ ░  │  │     ░ ├──────────┤┌┴──────────┤\n",
      "q_1: ┤ Ry(θ[1]) ├┤ Rz(θ[4]) ├─░──■──┼──■──░─┤ Ry(θ[7]) ├┤ Rz(θ[10]) ├\n",
      "     ├──────────┤├──────────┤ ░     │  │  ░ ├──────────┤├───────────┤\n",
      "q_2: ┤ Ry(θ[2]) ├┤ Rz(θ[5]) ├─░─────■──■──░─┤ Ry(θ[8]) ├┤ Rz(θ[11]) ├\n",
      "     └──────────┘└──────────┘ ░           ░ └──────────┘└───────────┘\n"
     ]
    }
   ],
   "source": [
    "ex2 = TwoLocal(3, ['ry','rz'], 'cz', 'full', reps=1, insert_barriers=True)\n",
    "print(ex2)"
   ]
  },
  {
   "cell_type": "markdown",
   "metadata": {},
   "source": [
    "### Example 3: Circular entanglement two ways ###"
   ]
  },
  {
   "cell_type": "code",
   "execution_count": 49,
   "metadata": {},
   "outputs": [
    {
     "name": "stdout",
     "output_type": "stream",
     "text": [
      "     ┌───┐┌──────────┐               ┌───┐         \n",
      "q_0: ┤ X ├┤ Rx(θ[0]) ├─────■─────────┤ X ├─────────\n",
      "     ├───┤└────┬─────┘┌────┴─────┐   └───┘    ┌───┐\n",
      "q_1: ┤ X ├─────┼──────┤ Rx(θ[1]) ├─────■──────┤ X ├\n",
      "     ├───┤     │      └──────────┘┌────┴─────┐├───┤\n",
      "q_2: ┤ X ├─────■──────────────────┤ Rx(θ[2]) ├┤ X ├\n",
      "     └───┘                        └──────────┘└───┘\n",
      "     ┌───┐                             ┌──────────┐┌───┐\n",
      "q_0: ┤ X ├─────■───────────────────────┤ Rx(θ[2]) ├┤ X ├\n",
      "     ├───┤┌────┴─────┐            ┌───┐└────┬─────┘└───┘\n",
      "q_1: ┤ X ├┤ Rx(θ[0]) ├─────■──────┤ X ├─────┼───────────\n",
      "     ├───┤└──────────┘┌────┴─────┐└───┘     │      ┌───┐\n",
      "q_2: ┤ X ├────────────┤ Rx(θ[1]) ├──────────■──────┤ X ├\n",
      "     └───┘            └──────────┘                 └───┘\n"
     ]
    }
   ],
   "source": [
    "# 1 - default\n",
    "ex3_1 = TwoLocal(3, 'x', 'crx', 'circular', reps=1)\n",
    "print(ex3_1)\n",
    "\n",
    "# 2 - using index pairs\n",
    "entangler_map = [[0, 1], [1, 2], [2, 0]] \n",
    "ex3_2 = TwoLocal(3, 'x', 'crx', entangler_map, reps=1)\n",
    "print(ex3_2)"
   ]
  },
  {
   "cell_type": "markdown",
   "metadata": {},
   "source": [
    "### Example 4: Adding the Same TwoLocal Circuit To Itself ###"
   ]
  },
  {
   "cell_type": "code",
   "execution_count": 48,
   "metadata": {},
   "outputs": [
    {
     "name": "stdout",
     "output_type": "stream",
     "text": [
      "                              ░ \n",
      "q_0: ─────■───────────────────░─\n",
      "     ┌────┴─────┐             ░ \n",
      "q_1: ┤ Ry(θ[0]) ├─────■───────░─\n",
      "     └──────────┘┌────┴─────┐ ░ \n",
      "q_2: ────────────┤ Ry(θ[1]) ├─░─\n",
      "                 └──────────┘ ░ \n",
      "                              ░                          ░ \n",
      "q_0: ─────■───────────────────░──────■───────────────────░─\n",
      "     ┌────┴─────┐             ░ ┌────┴─────┐             ░ \n",
      "q_1: ┤ Ry(θ[0]) ├─────■───────░─┤ Ry(θ[0]) ├─────■───────░─\n",
      "     └──────────┘┌────┴─────┐ ░ └──────────┘┌────┴─────┐ ░ \n",
      "q_2: ────────────┤ Ry(θ[1]) ├─░─────────────┤ Ry(θ[1]) ├─░─\n",
      "                 └──────────┘ ░             └──────────┘ ░ \n"
     ]
    }
   ],
   "source": [
    "ex4_1 = TwoLocal(3,[], 'cry', 'linear', reps=1, insert_barriers=True)\n",
    "print(ex4_1)\n",
    "circuit = ex4_1 + ex4_1\n",
    "print(circuit.decompose().draw()) \n",
    "# parameters (θ[0], θ[1], θ[2]) are the same"
   ]
  },
  {
   "cell_type": "markdown",
   "metadata": {},
   "source": [
    "### Example 5: Customizing Entanglement of Layers ###"
   ]
  },
  {
   "cell_type": "code",
   "execution_count": null,
   "metadata": {},
   "outputs": [],
   "source": [
    "error1 = TwoLocal(3,[], 'cry', 'linear', reps=1, insert_barriers=True)\n",
    "error2 = TwoLocal(3,[], 'cry', 'linear', reps=1, insert_barriers=True)\n",
    "print(error1)\n",
    "print(error2)\n",
    "# circuit = error1 + error2 \n",
    "# above line does not work, due to parameter names being the same within the same overall circuit for differing twolocal circuits\n",
    "# must build in the layers altogether\n",
    "layer_1 = [(0, 1), (0, 2)]\n",
    "layer_2 = [(1, 2)]\n",
    "layer_3 = [(0, 1), (1, 2), (2, 0)]\n",
    "ex5 = TwoLocal(3, 'x', 'cry', [layer_1, layer_2, layer_3], reps=3, insert_barriers=True)\n",
    "print(ex5)"
   ]
  },
  {
   "cell_type": "markdown",
   "metadata": {},
   "source": [
    "### Adding a TwoLocal Circuit in to a Qiskit QuantumCircuit ###"
   ]
  },
  {
   "cell_type": "code",
   "execution_count": null,
   "metadata": {},
   "outputs": [],
   "source": [
    "qc = QuantumCircuit(3)\n",
    "tl1 = TwoLocal(3,'ry', 'cz', 'full', reps=1, insert_barriers=True)\n",
    "qc += tl1\n",
    "print(qc.decompose().draw())"
   ]
  }
 ],
 "metadata": {
  "kernelspec": {
   "display_name": "Python 3",
   "language": "python",
   "name": "python3"
  },
  "language_info": {
   "codemirror_mode": {
    "name": "ipython",
    "version": 3
   },
   "file_extension": ".py",
   "mimetype": "text/x-python",
   "name": "python",
   "nbconvert_exporter": "python",
   "pygments_lexer": "ipython3",
   "version": "3.7.4"
  }
 },
 "nbformat": 4,
 "nbformat_minor": 4
}
